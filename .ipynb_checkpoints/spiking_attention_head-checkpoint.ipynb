{
 "cells": [
  {
   "cell_type": "code",
   "execution_count": 49,
   "metadata": {
    "slideshow": {
     "slide_type": "slide"
    }
   },
   "outputs": [],
   "source": [
    "import numpy as np\n",
    "import matplotlib.pyplot as plt\n",
    "np.set_printoptions(precision=3)\n"
   ]
  },
  {
   "cell_type": "code",
   "execution_count": 144,
   "metadata": {
    "slideshow": {
     "slide_type": "subslide"
    }
   },
   "outputs": [],
   "source": [
    "def softmax(x):\n",
    "    y = np.exp(x)\n",
    "    return y/np.sum(y)\n",
    "\n",
    "\n",
    "def ExpBernoulliAlt(c,lam,size=None,method='poisson',N=1000): # returns True with probability $e^{c-lam}$\n",
    "    if size is None: \n",
    "        size = (1,)\n",
    "    if type(size) is int:\n",
    "        size = (size,)\n",
    "    elif type(size) is not tuple:\n",
    "        raise TypeError(\"size must be int or tuple\")\n",
    "    \n",
    "    if method == 'poisson':\n",
    "        M=np.random.poisson(lam=lam,size=size) # Get integers from poisson(lam).\n",
    "    elif method == 'binomial': # N is number to flip\n",
    "        M=np.random.binomial(N,lam/N,size=size)\n",
    "\n",
    "    # if type(c) is float:\n",
    "    spikes = np.random.random(size)<np.power(c/lam,M) # Spike if all K trials are successful\n",
    "    return spikes\n",
    "\n",
    "def approx_fn(q,K,T,comb_method='OR'):\n",
    "    n_embed,n_keys = K.shape\n",
    "\n",
    "    # Create spike arrays based on the values in q and K\n",
    "    q_spikes = np.random.random((T,n_embed,1))<q\n",
    "    K_spikes = np.random.random((T,n_embed,n_keys))<K\n",
    "    scaling_spikes = np.random.random((T,n_embed,n_keys)) < 1/np.sqrt(n_embed) # K x N matrix of boolean mask\n",
    "    attn_score_spikes = q_spikes & K_spikes & scaling_spikes # AND\n",
    "\n",
    "    # Summing works better, but OR can work well if input rates are low\n",
    "    if comb_method == 'OR':\n",
    "        attn_score_spikes = np.any(attn_score_spikes, axis=1) # OR\n",
    "    elif comb_method == 'SUM':\n",
    "        attn_score_spikes = np.sum(attn_score_spikes, axis=1) # SUM\n",
    "    else:\n",
    "        assert(0)\n",
    "    approx_attn_scores = np.mean(attn_score_spikes,axis=0) # Get spike rates\n",
    "    return approx_attn_scores"
   ]
  },
  {
   "cell_type": "markdown",
   "metadata": {
    "slideshow": {
     "slide_type": "subslide"
    }
   },
   "source": [
    "We take a random query, $q$ and key, $k$, and try to compute their scaled dot product using spikes. \n",
    "\n",
    "Basic method: \n",
    "\n",
    "* Create spikes trains with rates proportional to the elements of $k$, $q$ and $1/\\sqrt{N}$ (where $N$ is the lenght of $q,k$).\n",
    "* Use AND gates to combine this, yields spike trains with rates proportional to $q_ik_i/\\sqrt{N}$.\n",
    "* Sum these spike trains together. If each individual spike train is sufficiently sparse, we can do this using an inclusive OR.\n",
    "\n",
    "Challenges: \n",
    "* What if we want to using key or query vectors that are not in $[0,1]^N$?\n",
    "* What if input spike trains are not very sparse? "
   ]
  },
  {
   "cell_type": "code",
   "execution_count": 146,
   "metadata": {
    "slideshow": {
     "slide_type": "fragment"
    }
   },
   "outputs": [
    {
     "ename": "ValueError",
     "evalue": "shapes (1,5) and (1,5) not aligned: 5 (dim 1) != 1 (dim 0)",
     "output_type": "error",
     "traceback": [
      "\u001b[0;31m---------------------------------------------------------------------------\u001b[0m",
      "\u001b[0;31mValueError\u001b[0m                                Traceback (most recent call last)",
      "\u001b[0;32m/tmp/ipykernel_241409/2714511512.py\u001b[0m in \u001b[0;36m<module>\u001b[0;34m\u001b[0m\n\u001b[1;32m     18\u001b[0m \u001b[0mapprox\u001b[0m \u001b[0;34m=\u001b[0m \u001b[0mapprox_fn\u001b[0m\u001b[0;34m(\u001b[0m\u001b[0mq\u001b[0m\u001b[0;34m,\u001b[0m\u001b[0mk\u001b[0m\u001b[0;34m,\u001b[0m\u001b[0mT\u001b[0m\u001b[0;34m)\u001b[0m\u001b[0;34m\u001b[0m\u001b[0;34m\u001b[0m\u001b[0m\n\u001b[1;32m     19\u001b[0m \u001b[0;31m# Exact scaled dot product\u001b[0m\u001b[0;34m\u001b[0m\u001b[0;34m\u001b[0m\u001b[0m\n\u001b[0;32m---> 20\u001b[0;31m \u001b[0mexact\u001b[0m \u001b[0;34m=\u001b[0m \u001b[0mnp\u001b[0m\u001b[0;34m.\u001b[0m\u001b[0mdot\u001b[0m\u001b[0;34m(\u001b[0m\u001b[0mq\u001b[0m\u001b[0;34m,\u001b[0m\u001b[0mk\u001b[0m\u001b[0;34m)\u001b[0m\u001b[0;34m/\u001b[0m\u001b[0mnp\u001b[0m\u001b[0;34m.\u001b[0m\u001b[0msqrt\u001b[0m\u001b[0;34m(\u001b[0m\u001b[0mN\u001b[0m\u001b[0;34m)\u001b[0m\u001b[0;34m\u001b[0m\u001b[0;34m\u001b[0m\u001b[0m\n\u001b[0m\u001b[1;32m     21\u001b[0m \u001b[0mpercent_error\u001b[0m \u001b[0;34m=\u001b[0m \u001b[0mnp\u001b[0m\u001b[0;34m.\u001b[0m\u001b[0mabs\u001b[0m\u001b[0;34m(\u001b[0m\u001b[0mapprox\u001b[0m \u001b[0;34m-\u001b[0m \u001b[0mexact\u001b[0m\u001b[0;34m)\u001b[0m \u001b[0;34m/\u001b[0m \u001b[0mexact\u001b[0m \u001b[0;34m*\u001b[0m \u001b[0;36m100\u001b[0m\u001b[0;34m\u001b[0m\u001b[0;34m\u001b[0m\u001b[0m\n\u001b[1;32m     22\u001b[0m \u001b[0mangle\u001b[0m \u001b[0;34m=\u001b[0m \u001b[0mnp\u001b[0m\u001b[0;34m.\u001b[0m\u001b[0marccos\u001b[0m\u001b[0;34m(\u001b[0m\u001b[0mnp\u001b[0m\u001b[0;34m.\u001b[0m\u001b[0mdot\u001b[0m\u001b[0;34m(\u001b[0m\u001b[0mq\u001b[0m\u001b[0;34m,\u001b[0m\u001b[0mk\u001b[0m\u001b[0;34m)\u001b[0m\u001b[0;34m/\u001b[0m\u001b[0mnp\u001b[0m\u001b[0;34m.\u001b[0m\u001b[0msqrt\u001b[0m\u001b[0;34m(\u001b[0m\u001b[0mnp\u001b[0m\u001b[0;34m.\u001b[0m\u001b[0mdot\u001b[0m\u001b[0;34m(\u001b[0m\u001b[0mq\u001b[0m\u001b[0;34m,\u001b[0m\u001b[0mq\u001b[0m\u001b[0;34m)\u001b[0m\u001b[0;34m*\u001b[0m\u001b[0mnp\u001b[0m\u001b[0;34m.\u001b[0m\u001b[0mdot\u001b[0m\u001b[0;34m(\u001b[0m\u001b[0mk\u001b[0m\u001b[0;34m,\u001b[0m\u001b[0mk\u001b[0m\u001b[0;34m)\u001b[0m\u001b[0;34m)\u001b[0m\u001b[0;34m)\u001b[0m\u001b[0;34m\u001b[0m\u001b[0;34m\u001b[0m\u001b[0m\n",
      "\u001b[0;31mValueError\u001b[0m: shapes (1,5) and (1,5) not aligned: 5 (dim 1) != 1 (dim 0)"
     ]
    }
   ],
   "source": [
    "N=5 # Embedding dimension\n",
    "T=10000 # Number of trials / steps\n",
    "max_rate = 1.0 # Maximum allowed spike probability\n",
    "\n",
    "# Generate two random vectors in [0,1]^N\n",
    "q,k = max_rate*np.random.random((2,N,1)) # spike probabilties for key and query\n",
    "\n",
    "# # Get spikes for both vectors and for the scaling mask\n",
    "# q_spikes = np.random.random((K,N)) < q   # K x N matrix of boolean spikes for neuron x\n",
    "# k_spikes = np.random.random((K,N)) < k   # K x N matrix of boolean spikes for neuron y\n",
    "# scaling_spikes = np.random.random((K,N)) < 1/np.sqrt(N) # K x N matrix of boolean mask\n",
    "\n",
    "# # Compute scaled dot product with spikes (approximate)\n",
    "# z = q_spikes & k_spikes & scaling_spikes # K vector of boolean ANDs, then averaged over neurons\n",
    "# # output_spike_train = np.any(z, axis=1) # K vector of boolean ORs\n",
    "# output_spike_train = np.sum(z, axis=1) # K vector of boolean ORs\n",
    "# approx = np.mean(output_spike_train) # average over K trials\n",
    "approx = approx_fn(q,k,T)\n",
    "# Exact scaled dot product\n",
    "exact = np.dot(q,k)/np.sqrt(N)\n",
    "percent_error = np.abs(approx - exact) / exact * 100\n",
    "angle = np.arccos(np.dot(q,k)/np.sqrt(np.dot(q,q)*np.dot(k,k)))\n",
    "\n",
    "print(\"Exact scaled dot product: \", round(exact, 5))\n",
    "print(\"Approximate scaled dot product: \", round(approx, 5))\n",
    "print(\"Percent error: \", round(percent_error, 5), \"%\")\n",
    "print(\"Angle: \", round(angle, 5), \" radians\")\n"
   ]
  },
  {
   "cell_type": "markdown",
   "metadata": {
    "slideshow": {
     "slide_type": "subslide"
    }
   },
   "source": [
    "Spiking dot products. Examples of dot products computed approximately with AND and OR gates.\n",
    "\n",
    "One challenge of spiking representing values with spike probabilities is that we can only (naturally) represent positive values. However, our dot product values are going to passed into a softmax, which is invariant under adding a constant to all inputs. Therefore, adding any fixed vector to all keys will not change the outcome of the softmax.  "
   ]
  },
  {
   "cell_type": "markdown",
   "metadata": {
    "slideshow": {
     "slide_type": "skip"
    }
   },
   "source": [
    "Spiking dot products:"
   ]
  },
  {
   "cell_type": "code",
   "execution_count": 4,
   "metadata": {
    "slideshow": {
     "slide_type": "fragment"
    }
   },
   "outputs": [
    {
     "name": "stdout",
     "output_type": "stream",
     "text": [
      "Exact attention scores: \n",
      " [[0.19 0.2  0.09 0.2  0.17 0.17 0.18 0.27 0.19 0.2 ]]\n"
     ]
    },
    {
     "ename": "TypeError",
     "evalue": "'numpy.float64' object is not callable",
     "output_type": "error",
     "traceback": [
      "\u001b[0;31m---------------------------------------------------------------------------\u001b[0m",
      "\u001b[0;31mTypeError\u001b[0m                                 Traceback (most recent call last)",
      "\u001b[0;32m/tmp/ipykernel_241409/3299105650.py\u001b[0m in \u001b[0;36m<module>\u001b[0;34m\u001b[0m\n\u001b[1;32m     27\u001b[0m \u001b[0;34m\u001b[0m\u001b[0m\n\u001b[1;32m     28\u001b[0m \u001b[0;31m# approx_attn_scores = np.mean(attn_score_spikes,axis=0) # Get spike rates\u001b[0m\u001b[0;34m\u001b[0m\u001b[0;34m\u001b[0m\u001b[0m\n\u001b[0;32m---> 29\u001b[0;31m \u001b[0mapprox_attn_scores\u001b[0m \u001b[0;34m=\u001b[0m \u001b[0mapprox\u001b[0m\u001b[0;34m(\u001b[0m\u001b[0mq\u001b[0m\u001b[0;34m,\u001b[0m\u001b[0mK\u001b[0m\u001b[0;34m,\u001b[0m\u001b[0mT\u001b[0m\u001b[0;34m)\u001b[0m\u001b[0;34m\u001b[0m\u001b[0;34m\u001b[0m\u001b[0m\n\u001b[0m\u001b[1;32m     30\u001b[0m \u001b[0mprint\u001b[0m\u001b[0;34m(\u001b[0m\u001b[0;34m\"Approximate attenion scores: \\n\"\u001b[0m\u001b[0;34m,\u001b[0m\u001b[0mapprox_attn_scores\u001b[0m\u001b[0;34m)\u001b[0m\u001b[0;34m\u001b[0m\u001b[0;34m\u001b[0m\u001b[0m\n",
      "\u001b[0;31mTypeError\u001b[0m: 'numpy.float64' object is not callable"
     ]
    }
   ],
   "source": [
    "# With a small embedding dimension we can fully explore space of possible vectors. \n",
    "# With a large embedding dimension, dot products tend towards a certain value. \n",
    "\n",
    "n_embed=5 # Embedding dimension\n",
    "n_keys=10 # Number keys\n",
    "T=50000 # Number of time steps\n",
    "\n",
    "# q,K = np.abs(np.random.normal(0, 1./10, (n_embed,1))),np.abs(np.random.normal(0, 1./10, (n_embed,n_keys))) # spike probability of each neuron\n",
    "\n",
    "max_rate = 0.5 # The maximum allow spike rate for inputs\n",
    "q =  max_rate*np.random.random((n_embed,1)) # Query\n",
    "K = max_rate*np.random.random((n_embed,n_keys)) # Keys\n",
    "\n",
    "# Baseline using continuous values\n",
    "attn_scores = q.T@K/np.sqrt(n_embed)\n",
    "print(\"Exact attention scores: \\n\",attn_scores)\n",
    "\n",
    "# # Create spike arrays based on the values in q and K\n",
    "# q_spikes = np.random.random((T,n_embed,1))<q\n",
    "# K_spikes = np.random.random((T,n_embed,n_keys))<K\n",
    "# scaling_mask = np.random.random((T,n_embed,n_keys)) < 1/np.sqrt(n_embed) # K x N matrix of boolean mask\n",
    "# attn_score_spikes = q_spikes & K_spikes & scaling_mask # AND\n",
    "\n",
    "# # Summing works better, but OR can work well if input rates are low\n",
    "# attn_score_spikes = np.any(attn_score_spikes, axis=1) # OR\n",
    "# # attn_score_spikes = np.sum(attn_score_spikes, axis=1) # SUM\n",
    "\n",
    "# approx_attn_scores = np.mean(attn_score_spikes,axis=0) # Get spike rates\n",
    "approx_attn_scores = approx(q,K,T)\n",
    "print(\"Approximate attenion scores: \\n\",approx_attn_scores)\n"
   ]
  },
  {
   "cell_type": "code",
   "execution_count": null,
   "metadata": {},
   "outputs": [
    {
     "name": "stderr",
     "output_type": "stream",
     "text": [
      "/tmp/ipykernel_212748/2810556129.py:18: RuntimeWarning: invalid value encountered in scalar divide\n",
      "  error = np.sqrt(np.mean(diff**2)/np.mean(attn_scores**2))\n",
      "/tmp/ipykernel_212748/2810556129.py:24: RuntimeWarning: invalid value encountered in scalar divide\n",
      "  error = np.sqrt(np.mean(diff**2)/np.mean(attn_scores**2))\n"
     ]
    },
    {
     "data": {
      "image/png": "[encoded data removed]",
      "text/plain": [
       "<Figure size 432x288 with 1 Axes>"
      ]
     },
     "metadata": {
      "needs_background": "light"
     },
     "output_type": "display_data"
    }
   ],
   "source": [
    "n_embed=64 # Embedding dimension\n",
    "n_keys=100 # Number keys\n",
    "T=50000 # Number of time steps\n",
    "\n",
    "OR_errors, SUM_errors = [], []\n",
    "max_rates = np.linspace(0.0,0.5,20)\n",
    "\n",
    "for max_rate in max_rates:\n",
    "\n",
    "    # Get keys/query and compute exact scaled dot products\n",
    "    q =  max_rate*np.random.random((n_embed,1)) # Query\n",
    "    K = max_rate*np.random.random((n_embed,n_keys)) # Keys\n",
    "    attn_scores = q.T@K/np.sqrt(n_embed) # Exact attention scores\n",
    "\n",
    "    # OR (avg error) \n",
    "    approx_attn_scores = approx(q,K,T,comb_method='OR')\n",
    "    diff = attn_scores - approx_attn_scores\n",
    "    error = np.sqrt(np.mean(diff**2)/np.mean(attn_scores**2))\n",
    "    OR_errors.append(error)\n",
    "\n",
    "    # SUM (avg error) \n",
    "    approx_attn_scores = approx(q,K,T,comb_method='SUM')\n",
    "    diff = attn_scores - approx_attn_scores\n",
    "    error = np.sqrt(np.mean(diff**2)/np.mean(attn_scores**2))\n",
    "    SUM_errors.append(error)\n",
    "\n",
    "plt.plot(max_rates,OR_errors,label='OR')\n",
    "plt.plot(max_rates,SUM_errors,label='SUM')\n",
    "plt.legend()\n",
    "plt.show()\n"
   ]
  },
  {
   "cell_type": "markdown",
   "metadata": {},
   "source": [
    "Softmax: version where we passed attentions scores directly"
   ]
  },
  {
   "cell_type": "code",
   "execution_count": null,
   "metadata": {},
   "outputs": [
    {
     "name": "stdout",
     "output_type": "stream",
     "text": [
      "[[2.22937e-03 2.37173e-03 4.66050e-04 2.11442e-03 3.80521e-05]]\n",
      "[2.22937e-03 2.37173e-03 4.66050e-04 2.11442e-03 3.80521e-05]\n",
      "[0.20016 0.20019 0.1998  0.20013 0.19972]\n",
      "[0.20054, 0.20006, 0.19982, 0.19888, 0.20096]\n"
     ]
    }
   ],
   "source": [
    "n_embed=1 # Embedding dimension\n",
    "n_keys=5 # Number keys\n",
    "# T=50000 # Number of time steps\n",
    "max_rate = 0.1\n",
    "\n",
    "# Get keys/query and compute exact scaled dot products\n",
    "q =  max_rate*np.random.random((n_embed,1)) # Query\n",
    "K = max_rate*np.random.random((n_embed,n_keys)) # Keys\n",
    "attn_scores = q.T@K/np.sqrt(n_embed) # Exact attention scores\n",
    "np.set_printoptions(precision=5)\n",
    "print(attn_scores)\n",
    "# lam = max(attn_scores)\n",
    "# print(attn_scores.shape)\n",
    "# assert(0)\n",
    "\n",
    "N=500 # Population size\n",
    "T=50000 # Number of trials\n",
    "\n",
    "c = attn_scores[0] #[3,0,1,2,3,7] # Inputs to softmax\n",
    "dt = 0.01\n",
    "lam = max(c)\n",
    "\n",
    "for _ in range(N):\n",
    "    li = [0 for _ in c]\n",
    "    for i,x in enumerate(c):\n",
    "        spikes = ExpBernoulliAlt(x,lam,T)\n",
    "        li[i] = spikes\n",
    "    total_mean_spikes = np.sum([np.mean(z) for z in li])\n",
    "    lam += dt*(total_mean_spikes-1) # How the fuck did copilot guess this line from \"lam += dt*\"?????!!!!!!!!!!\n",
    "    # print(total_mean_spikes)\n",
    "print(c)\n",
    "print(softmax(np.array(c)))\n",
    "print([np.mean(z) for z in li])\n",
    "\n"
   ]
  },
  {
   "cell_type": "code",
   "execution_count": null,
   "metadata": {},
   "outputs": [],
   "source": [
    "n_embed=1 # Embedding dimension\n",
    "n_keys=5 # Number keys\n",
    "T=50000 # Number of time steps\n",
    "max_rate = 0.1\n",
    "\n",
    "# Get keys/query and compute exact scaled dot products\n",
    "q =  max_rate*np.random.random((n_embed,1)) # Query\n",
    "K = max_rate*np.random.random((n_embed,n_keys)) # Keys\n",
    "attn_scores = q.T@K/np.sqrt(n_embed) # Exact attention scores\n",
    "np.set_printoptions(precision=5)\n",
    "print(attn_scores)\n",
    "# lam = max(attn_scores)\n",
    "# print(attn_scores.shape)\n",
    "# assert(0)\n",
    "\n",
    "N=500 # Population size\n",
    "K=10000 # Number of trials\n",
    "\n",
    "c = attn_scores[0] #[3,0,1,2,3,7] # Inputs to softmax\n",
    "dt = 0.01\n",
    "lam = max(c)\n",
    "\n",
    "for _ in range(N):\n",
    "    li = [0 for _ in c]\n",
    "    for i,x in enumerate(c):\n",
    "        spikes = ExpBernoulliAlt(x,lam,K)\n",
    "        li[i] = spikes\n",
    "    total_mean_spikes = np.sum([np.mean(z) for z in li])\n",
    "    lam += dt*(total_mean_spikes-1) # How the fuck did copilot guess this line from \"lam += dt*\"?????!!!!!!!!!!\n",
    "    # print(total_mean_spikes)\n",
    "print(c)\n",
    "print(softmax(np.array(c)))\n",
    "print([np.mean(z) for z in li])\n",
    "\n",
    "def ExpBernoulliAlt(c,lam,size=None,method='poisson',N=1000): # returns True with probability $e^{c-lam}$\n",
    "    if size is None: \n",
    "        size = (1,)\n",
    "    if type(size) is int:\n",
    "        size = (size,)\n",
    "    elif type(size) is not tuple:\n",
    "        raise TypeError(\"size must be int or tuple\")\n",
    "    \n",
    "    if method == 'poisson':\n",
    "        M=np.random.poisson(lam=lam,size=size) # Get integers from poisson(lam).\n",
    "    elif method == 'binomial': # N is number to flip\n",
    "        M=np.random.binomial(N,lam/N,size=size)\n",
    "\n",
    "    # if type(c) is float:\n",
    "    spikes = np.random.random(size)<np.power(c/lam,M) # Spike if all K trials are successful\n",
    "    return spikes\n",
    "\n"
   ]
  },
  {
   "cell_type": "markdown",
   "metadata": {},
   "source": [
    "Softmax: Version where we pass spikes"
   ]
  },
  {
   "cell_type": "code",
   "execution_count": null,
   "metadata": {},
   "outputs": [],
   "source": [
    "\n",
    "attn_score_spikes = np.any(attn_score_spikes, axis=1)\n",
    "# attn_score_spikes = np.sum(attn_score_spikes, axis=1)\n",
    "\n",
    "approx_attn_scores = np.mean(attn_score_spikes, axis=0)\n",
    "\n",
    "# Compare\n",
    "print(\"Approx: \",approx_attn_scores)\n",
    "print(\"Exact: \",attn_scores)\n",
    "print(\"Error :\",1-np.mean(approx_attn_scores/attn_scores))\n",
    "print(\"Ratios: \",approx_attn_scores/attn_scores)\n",
    "\n",
    "# Scatter plot\n",
    "# plt.scatter(attn_scores, approx_attn_scores)\n",
    "\n",
    "# Add labels and title\n",
    "plt.xlabel('Exact Attention Scores')\n",
    "plt.ylabel('Approximate Attention Scores')\n",
    "plt.title('Exact vs Approximate Attention Scores')\n",
    "\n",
    "# Scatter plot\n",
    "plt.scatter(attn_scores, approx_attn_scores)\n",
    "# Add y=x line\n",
    "plt.plot([np.min(attn_scores), np.max(attn_scores)], [np.min(attn_scores), np.max(attn_scores)], color='black', linestyle='dashed')\n",
    "\n",
    "# Show the plot\n",
    "plt.show()\n",
    "\n"
   ]
  },
  {
   "cell_type": "markdown",
   "metadata": {},
   "source": [
    "New idea that might work well. So, let's say that N is the dimension of the keys and queries. When we first dot the key and query spikes, we do AND operations and the output is a vector of lenghth N. The sum of this vector has the dot product as its expected value. However, what if instead of doing a sum or an OR, we flip N coins to get an approx to Poisson(lambda) and then we transmit a spike if all of the coins that came up heads were also heads in the AND vector. I.e. all of the coins that came of heads were also heads in both the key and the query vector. "
   ]
  },
  {
   "cell_type": "code",
   "execution_count": null,
   "metadata": {},
   "outputs": [
    {
     "name": "stdout",
     "output_type": "stream",
     "text": [
      "Approx : [0.096 0.094 0.084 0.082 0.092 0.084 0.082 0.088 0.086 0.102 0.094 0.088\n",
      " 0.098 0.09  0.094 0.092 0.102 0.09  0.086 0.086]\n",
      "Exact:  [[0.1        0.07591026 0.07393153 0.07666985 0.07402809 0.07000596\n",
      "  0.07088452 0.07685    0.07300686 0.07437543 0.07594129 0.0762364\n",
      "  0.07551446 0.07362136 0.07728051 0.0743656  0.07741174 0.07859786\n",
      "  0.07764515 0.07697252]]\n",
      "Error : -0.1875686704183599\n",
      "Ratios:  [[0.96       1.23830431 1.13618638 1.06952086 1.24277148 1.1998978\n",
      "  1.15681105 1.14508782 1.17797154 1.37142056 1.23779838 1.15430417\n",
      "  1.29776473 1.22247129 1.21634811 1.23713111 1.31762962 1.14506933\n",
      "  1.10760304 1.11728183]]\n"
     ]
    }
   ],
   "source": [
    "\n",
    "outs=[]\n",
    "for trial in range(500):\n",
    "    T=np.random.poisson(lam=lam,size=1)[0] # Get integers from poisson(lam). Number of successes needs\n",
    "    # Spiking approximation\n",
    "    q_spikes = np.random.random((T,dm,1))<q\n",
    "    K_spikes = np.random.random((T,dm,n_keys))<K\n",
    "    mask = np.random.random((T,dm,n_keys)) < 1/np.sqrt(dm) # K x N matrix of boolean mask\n",
    "    attn_score_spikes = q_spikes & K_spikes & mask\n",
    "    sum_spikes = np.any(attn_score_spikes, axis=1)\n",
    "    out = np.all(sum_spikes, axis=0,keepdims=True)\n",
    "    # flips = np.random.random((T,M))<lam/T\n",
    "    # lam_invert = np.random.random((T,M))<1/lam\n",
    "    # # ~flips | (sum_spikes & lam_invert)\n",
    "    # out = np.all(~flips | (sum_spikes & lam_invert), axis=0,keepdims=True)\n",
    "    outs.append(out)\n",
    "outs = np.concatenate(outs,axis=0)\n",
    "mean_out = np.mean(outs,axis=0)\n",
    "print(\"Approx :\",mean_out)\n",
    "print(\"Exact: \",attn_scores)\n",
    "print(\"Error :\",1-np.mean(mean_out/attn_scores))\n",
    "print(\"Ratios: \",mean_out/attn_scores)\n",
    "\n",
    "\n",
    "# q_spikes = np.random.random((T,N,1))<q\n",
    "# K_spikes = np.random.random((T,N,M))<K\n",
    "# mask = np.random.random((T,N,M)) < 1/np.sqrt(N) # K x N matrix of boolean mask\n",
    "# score_spikes = q_spikes & K_spikes & mask\n",
    "# sum_spikes = np.any(score_spikes, axis=1)\n",
    "# flips = np.random.random((T,M))<lam/T\n",
    "# lam_invert = np.random.random((T,M))<1/lam\n",
    "# # ~flips | (sum_spikes & lam_invert)\n",
    "# out = np.all(~flips | (sum_spikes & lam_invert), axis=0,keepdims=True)\n",
    "# # print(np.shape(out))\n",
    "# print(out/attn_scores)\n",
    "# # sum_spikes_reduced = sum_spikes @\n",
    "# # mean_spikes = np.mean(sum_spikes, axis=0,keepdims=True)\n",
    "# # print(np.shape(sum_spikes))\n",
    "# print(np.shape(attn_scores))\n",
    "# error = mean_spikes-attn_scores\n",
    "# print(np.sqrt(np.mean(error**2)))\n",
    "# print(np.sqrt(np.mean(attn_scores**2)))\n",
    "\n",
    "\n"
   ]
  }
 ],
 "metadata": {
  "celltoolbar": "Slideshow",
  "kernelspec": {
   "display_name": "Python 3 (ipykernel)",
   "language": "python",
   "name": "python3"
  },
  "language_info": {
   "codemirror_mode": {
    "name": "ipython",
    "version": 3
   },
   "file_extension": ".py",
   "mimetype": "text/x-python",
   "name": "python",
   "nbconvert_exporter": "python",
   "pygments_lexer": "ipython3",
   "version": "3.9.12"
  }
 },
 "nbformat": 4,
 "nbformat_minor": 2
}
