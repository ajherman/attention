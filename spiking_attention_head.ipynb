{
 "cells": [
  {
   "cell_type": "code",
   "execution_count": 2,
   "metadata": {
    "slideshow": {
     "slide_type": "slide"
    }
   },
   "outputs": [],
   "source": [
    "import numpy as np\n",
    "import matplotlib.pyplot as plt\n",
    "np.set_printoptions(precision=3)\n"
   ]
  },
  {
   "cell_type": "code",
   "execution_count": 4,
   "metadata": {
    "slideshow": {
     "slide_type": "slide"
    }
   },
   "outputs": [],
   "source": [
    "def softmax(x):\n",
    "    y = np.exp(x)\n",
    "    return y/np.sum(y)\n",
    "\n",
    "\n",
    "def ExpBernoulliAlt(alpha,lam,size=None,method='binomial',N=1000): # returns True with probability $e^{alpha-lam}$\n",
    "    if size is None: \n",
    "        size = (1,)\n",
    "    if type(size) is int:\n",
    "        size = (size,)\n",
    "    elif type(size) is not tuple:\n",
    "        raise TypeError(\"size must be int or tuple\")\n",
    "    \n",
    "    if method == 'poisson':\n",
    "        M=np.random.poisson(lam=lam,size=size) # Get integers from poisson(lam).\n",
    "    elif method == 'binomial': # N is number to flip\n",
    "        M=np.random.binomial(N,lam/N,size=size)\n",
    "\n",
    "    spikes = np.random.random(size)<np.power(alpha/lam,M) # Spike if all K trials are successful\n",
    "    return spikes\n",
    "\n",
    "def approx_fn(q,K,T,comb_method='OR'):\n",
    "    n_embed,n_keys = K.shape\n",
    "\n",
    "    # Create spike arrays based on the values in q and K\n",
    "    q_spikes = np.random.random((T,n_embed,1))<q\n",
    "    K_spikes = np.random.random((T,n_embed,n_keys))<K\n",
    "    scaling_spikes = np.random.random((T,n_embed,n_keys)) < 1/np.sqrt(n_embed) # K x N matrix of boolean mask\n",
    "    attn_score_spikes = q_spikes & K_spikes & scaling_spikes # AND\n",
    "\n",
    "    # Summing works better, but OR can work well if input rates are low\n",
    "    if comb_method == 'OR':\n",
    "        attn_score_spikes = np.any(attn_score_spikes, axis=1) # OR\n",
    "    elif comb_method == 'SUM':\n",
    "        attn_score_spikes = np.sum(attn_score_spikes, axis=1) # SUM\n",
    "    else:\n",
    "        assert(0)\n",
    "    # approx_attn_scores = np.mean(attn_score_spikes,axis=0) # Get spike rates\n",
    "    return attn_score_spikes"
   ]
  },
  {
   "cell_type": "markdown",
   "metadata": {
    "slideshow": {
     "slide_type": "slide"
    }
   },
   "source": [
    "## Computing the scaled dot product between two vectors\n",
    "\n",
    "Query: $q$\\\n",
    "Key: $k$\\\n",
    "Scaled dot product: $q\\cdot k/\\sqrt{N}$\n",
    "\n",
    "\n",
    "Basic method: \n",
    "\n",
    "* Create spikes trains with rates proportional to the elements of $k$, $q$ and $1/\\sqrt{N}$ (where $N$ is the lenght of $q,k$).\n",
    "* Use AND gates to combine this, yields spike trains with rates proportional to $q_ik_i/\\sqrt{N}$.\n",
    "* Sum these spike trains together. If each individual spike train is sufficiently sparse, we can approximate this with an inclusive OR.\n",
    "\n",
    "Challenges: \n",
    "* What if we want to using key or query vectors that are not in $[0,1]^N$?\n",
    "* What if input spike trains are not very sparse? "
   ]
  },
  {
   "cell_type": "code",
   "execution_count": 3,
   "metadata": {
    "slideshow": {
     "slide_type": "slide"
    }
   },
   "outputs": [
    {
     "name": "stdout",
     "output_type": "stream",
     "text": [
      "Exact scaled dot product:  0.01505\n",
      "Approximation using spikes:  0.01439\n",
      "Percent error:  4.37945 %\n",
      "Angle:  0.54254  radians\n"
     ]
    }
   ],
   "source": [
    "N=5 # Embedding dimension\n",
    "T=100000 # Number of trials / steps\n",
    "max_rate = 0.2 # Maximum allowed spike probability\n",
    "\n",
    "# Generate two random vectors in [0,1]^N\n",
    "q,k = max_rate*np.random.random((2,N,1)) # spike probabilties for key and query\n",
    "\n",
    "# Approximate scaled dot product using spikes\n",
    "approx = np.mean(approx_fn(q,k,T,comb_method='OR'),axis=0).item()\n",
    "\n",
    "# Exact scaled dot product\n",
    "exact = (q.T@k/np.sqrt(N)).item()\n",
    "\n",
    "# Error\n",
    "percent_error = np.abs((approx - exact) / exact) * 100\n",
    "angle = np.arccos(q.T@k/np.sqrt(q.T@q*k.T@k)).item()\n",
    "\n",
    "print(\"Exact scaled dot product: \", round(exact, 5))\n",
    "print(\"Approximation using spikes: \", round(approx, 5))\n",
    "print(\"Percent error: \", round(percent_error, 5), \"%\")\n",
    "print(\"Angle: \", round(angle, 5), \" radians\")\n"
   ]
  },
  {
   "cell_type": "markdown",
   "metadata": {
    "slideshow": {
     "slide_type": "slide"
    }
   },
   "source": [
    "## What is the effect of sparsity?\n",
    "\n",
    "* The OR method works better for sparse spike trains, because the probability of collisions is low.\n",
    "* The SUM method works better for dense spike trains, because the variance of the sample spike rate is lower.\n",
    "* Let's compare these!"
   ]
  },
  {
   "cell_type": "markdown",
   "metadata": {
    "slideshow": {
     "slide_type": "slide"
    }
   },
   "source": [
    "* As can be seen above, higher spike probabilities lead to less accurate approximations when combining channels using the inclusive OR method. \n",
    "* How does the maximum spike probability of the inputs affect this?"
   ]
  },
  {
   "cell_type": "code",
   "execution_count": 4,
   "metadata": {
    "slideshow": {
     "slide_type": "slide"
    }
   },
   "outputs": [
    {
     "name": "stderr",
     "output_type": "stream",
     "text": [
      "/tmp/ipykernel_12900/1380819567.py:18: RuntimeWarning: invalid value encountered in scalar divide\n",
      "  error = np.sqrt(np.mean(diff**2)/np.mean(attn_scores**2))*100\n",
      "/tmp/ipykernel_12900/1380819567.py:24: RuntimeWarning: invalid value encountered in scalar divide\n",
      "  error = np.sqrt(np.mean(diff**2)/np.mean(attn_scores**2))*100\n"
     ]
    },
    {
     "data": {
      "image/png": "[encoded data removed]",
      "text/plain": [
       "<Figure size 432x288 with 1 Axes>"
      ]
     },
     "metadata": {
      "needs_background": "light"
     },
     "output_type": "display_data"
    }
   ],
   "source": [
    "n_embed=64 # Embedding dimension\n",
    "n_keys=100 # Number keys\n",
    "T=50000 #50000 # Number of time steps\n",
    "\n",
    "OR_errors, SUM_errors = [], []\n",
    "max_rates = np.linspace(0.0,0.5,20)\n",
    "\n",
    "for max_rate in max_rates:\n",
    "\n",
    "    # Get keys/query and compute exact scaled dot products\n",
    "    q =  max_rate*np.random.random((n_embed,1)) # Query\n",
    "    K = max_rate*np.random.random((n_embed,n_keys)) # Keys\n",
    "    attn_scores = q.T@K/np.sqrt(n_embed) # Exact attention scores\n",
    "\n",
    "    # OR (avg error) \n",
    "    approx_attn_scores = np.mean(approx_fn(q,K,T,comb_method='OR'),axis=0)\n",
    "    diff = attn_scores - approx_attn_scores\n",
    "    error = np.sqrt(np.mean(diff**2)/np.mean(attn_scores**2))*100\n",
    "    OR_errors.append(error)\n",
    "\n",
    "    # SUM (avg error) \n",
    "    approx_attn_scores = np.mean(approx_fn(q,K,T,comb_method='SUM'),axis=0)\n",
    "    diff = attn_scores - approx_attn_scores\n",
    "    error = np.sqrt(np.mean(diff**2)/np.mean(attn_scores**2))*100\n",
    "    SUM_errors.append(error)\n",
    "\n",
    "plt.plot(max_rates,OR_errors,label='OR')\n",
    "plt.plot(max_rates,SUM_errors,label='SUM')\n",
    "plt.xlabel('Maximum allowed spike probability for key/query elements')\n",
    "plt.ylabel('Fractional error (%)')\n",
    "plt.legend()\n",
    "plt.show()\n"
   ]
  },
  {
   "cell_type": "markdown",
   "metadata": {
    "slideshow": {
     "slide_type": "slide"
    }
   },
   "source": [
    "## Softmax\n",
    "\n",
    "Given a vector $\\bar{\\alpha}=(\\alpha_1,\\alpha_2,\\ldots,\\alpha_n)$, we define: $softmax(\\bar{\\alpha})=(e^{\\alpha_i-\\lambda})_{i\\in n}$, where $\\lambda=LSE(\\bar{\\alpha})=log(\\sum e^{\\alpha_i})$\n",
    "\n",
    "* Rather than trying to compute $\\lambda$ explicitly, we note that $\\lambda$ is the unique value that makes the softmax entries sum to 1. \n",
    "* We can adjust $\\lambda$ dynamically to make this true. \n",
    "* Therefore, the problem of compute softmax reduces to the problem of computing exponentials (using spikes).\n"
   ]
  },
  {
   "cell_type": "markdown",
   "metadata": {
    "slideshow": {
     "slide_type": "slide"
    }
   },
   "source": [
    "\n",
    "### Idea\n",
    "\n",
    "* Use the approximation: $e^{\\alpha-\\lambda}\\approx (1-\\frac{\\lambda-\\alpha}{N})^N$ for large $N$.\n",
    "* This reduces the problem. We just need to be able to generate spikes with probability $1-(\\lambda-\\alpha)/N$.\n",
    "* It may be useful to rewrite this expression as a more complex probability: $1-(\\lambda-\\alpha)/N=1-(\\lambda/N)(1-\\alpha/\\lambda)$\n",
    "* This expression is the probability that $A\\to B$, where $A$ and $B$ are independent Bernoulli r.v.s with probabilities $\\lambda/N$ and $\\alpha/\\lambda$, respectively.\n",
    "* Details: Let A and B be (independent) Bernoulli r.v.s Then $P(A\\to B) = P(\\lnot(A\\wedge\\lnot B))=1-P(A)[1-P(B)]$\n",
    "* Method: Flip $N$ coins each with probability $\\lambda/N$. For each coin that comes up heads, flip a coin with probability $\\alpha/\\lambda$. If all of the coins on this second round come up heads, we transmit a spike. The probability of spiking will be roughly $e^{\\alpha-\\lambda}$ if $N$ is sufficiently large. \n",
    "\n",
    "\n",
    "<!-- ![Exponential spiking](image1.svg) -->\n",
    "\n",
    "<img src=\"image1.svg\" alt=\"Description\" width=\"50%\"/>\n",
    "\n",
    "Note: The number of successes on the first round is distributed roughly like Poisson($\\lambda$) when $N$ is large. What if we actually use Poisson($\\lambda$)?\n",
    "\n",
    "Suppose that $k\\sim Poisson(\\lambda)$. What is the probability that $k$ independent Bernoulli($\\frac{\\alpha}{\\lambda}$) trials are all successful?\n",
    "\n",
    "Spike probability: $\\sum_k p(k)(\\frac{\\alpha}{\\lambda})^k=\\sum_k e^{-\\lambda}\\frac{\\lambda^k}{k!}(\\frac{\\alpha}{\\lambda})^k=e^{-\\lambda}\\sum_k\\frac{\\alpha^k}{k!}=e^{\\alpha-\\lambda}$.\n",
    "\n",
    "<!-- What if we replace the Poisson with a Binomial approximation (using N trials and success probability $\\lambda/N$)?\n",
    "\n",
    "Answer: $\\sum_k {N\\choose k}(\\frac{\\lambda}{N})^k(1-\\frac{\\lambda}{N})^{N-k}(\\frac{\\alpha}{\\lambda})^k=(1-\\frac{\\lambda}{N})^N\\sum_k{N \\choose k}(\\frac{\\alpha}{N-\\lambda})^k$ -->\n"
   ]
  },
  {
   "cell_type": "code",
   "execution_count": 5,
   "metadata": {
    "slideshow": {
     "slide_type": "slide"
    }
   },
   "outputs": [
    {
     "name": "stdout",
     "output_type": "stream",
     "text": [
      "Exact exponential:  0.3678794411714424\n",
      "Approximation using spikes:  0.36521\n",
      "Error:  0.725629342847233 %\n"
     ]
    }
   ],
   "source": [
    "# Basic exponential\n",
    "\n",
    "T=100000\n",
    "alpha = 5*np.random.random()\n",
    "lam = alpha + 1\n",
    "\n",
    "# Exact exponential\n",
    "exact = np.exp(alpha-lam)\n",
    "print(\"Exact exponential: \",exact)\n",
    "\n",
    "# Approximate exponential using spikes\n",
    "spikes = ExpBernoulliAlt(alpha,lam,T)\n",
    "approx = np.mean(spikes)\n",
    "print(\"Approximation using spikes: \",approx)\n",
    "\n",
    "# Error\n",
    "error = np.abs((exact-approx)/exact)\n",
    "print(\"Error: \",100*error,'%')\n"
   ]
  },
  {
   "cell_type": "code",
   "execution_count": 6,
   "metadata": {
    "slideshow": {
     "slide_type": "slide"
    }
   },
   "outputs": [
    {
     "name": "stdout",
     "output_type": "stream",
     "text": [
      "Total probability (this should be 1):  5.6697299999999995\n",
      "Total probability (this should be 1):  0.54815\n",
      "Total probability (this should be 1):  0.6869000000000001\n",
      "Total probability (this should be 1):  0.80474\n",
      "Total probability (this should be 1):  0.88513\n",
      "Total probability (this should be 1):  0.93638\n",
      "Total probability (this should be 1):  0.96611\n",
      "Total probability (this should be 1):  0.98882\n",
      "Total probability (this should be 1):  0.9968899999999999\n",
      "Total probability (this should be 1):  0.9964900000000001\n",
      "\n",
      "\n",
      "Original vector:  [0.913 0.961 0.532 0.65  0.102 0.269 0.789 0.406]\n",
      "Exact softmax:  [0.168 0.176 0.115 0.129 0.075 0.088 0.148 0.101]\n",
      "Approximation using spike:  [0.167, 0.17514, 0.11452, 0.1285, 0.07442, 0.08873, 0.14753, 0.10065]\n",
      "Error:  0.5037065999649422 %\n"
     ]
    }
   ],
   "source": [
    "# Basic softmax\n",
    "n_embed = 8\n",
    "dt = 0.5\n",
    "N=10\n",
    "T=100000\n",
    "\n",
    "alpha = np.random.random(n_embed) # alpha\n",
    "exact = softmax(np.array(alpha))\n",
    "lam = max(alpha) # Initial value for lambda\n",
    "\n",
    "# Loops\n",
    "for _ in range(N): # Iterate to adjust lambda\n",
    "    spikes = [ExpBernoulliAlt(x,lam,T) for x in alpha] # Get spike trains for each channel\n",
    "    approx = [np.mean(z) for z in spikes]\n",
    "    total_probability = np.sum(approx)\n",
    "    print('Total probability (this should be 1): ', total_probability)\n",
    "    lam += dt*(total_probability-1) # How the fuck did copilot guess this line from \"lam += dt*\"?????!!!!!!!!!!\n",
    "error = np.sqrt(np.mean((exact-approx)**2)/np.mean(exact**2))*100\n",
    "\n",
    "print('\\n')\n",
    "print('Original vector: ',alpha)\n",
    "print('Exact softmax: ',exact)\n",
    "print('Approximation using spike: ',approx)\n",
    "print('Error: ',error,'%')"
   ]
  },
  {
   "cell_type": "code",
   "execution_count": 28,
   "metadata": {
    "slideshow": {
     "slide_type": "slide"
    }
   },
   "outputs": [
    {
     "name": "stdout",
     "output_type": "stream",
     "text": [
      "Attention scores:  [[0.078 0.108 0.092 0.12  0.122]]\n",
      "Exact exponentials:  [[0.398 0.41  0.403 0.415 0.415]]\n",
      "Approximation using spikes:  [0.39  0.425 0.428 0.409 0.415]\n",
      "Error:  3.3229223179537892 %\n"
     ]
    }
   ],
   "source": [
    "np.set_printoptions(precision=3)\n",
    "n_embed=4 # Embedding dimension\n",
    "n_keys=5 # Number keys\n",
    "M=1000\n",
    "T=20000\n",
    "max_rate = 0.5\n",
    "lam=1.0\n",
    "\n",
    "# Get keys/query and compute exact scaled dot products\n",
    "q =  max_rate*np.random.random((n_embed,1)) # Query\n",
    "K = max_rate*np.random.random((n_embed,n_keys)) # Keys\n",
    "attn_scores = q.T@K/np.sqrt(n_embed) # Exact attention scores\n",
    "print(\"Attention scores: \",attn_scores)\n",
    "\n",
    "exact = np.exp(attn_scores-lam)\n",
    "print(\"Exact exponentials: \",exact)\n",
    "\n",
    "A_spikes = np.random.random((M,T,n_keys)) < lam/T\n",
    "B_spikes=approx_fn(q/lam,K,M*T,comb_method='OR').reshape(M,T,-1)\n",
    "attn_score_spikes = ~A_spikes | B_spikes # AND\n",
    "\n",
    "approx = np.mean(np.all(attn_score_spikes,axis=1),axis=0)\n",
    "error = np.sqrt(np.mean((approx-exact)**2)/np.mean(exact**2))\n",
    "print(\"Approximation using spikes: \",approx)\n",
    "print(\"Error: \",100*error,'%')\n"
   ]
  },
  {
   "cell_type": "markdown",
   "metadata": {
    "slideshow": {
     "slide_type": "slide"
    }
   },
   "source": [
    "## We can avoid doing the sum in the dot products...\n",
    "\n",
    "* Basic idea: $exp(q\\cdot k-\\lambda) = exp(\\sum_N q_is_i-\\lambda)=\\prod_N exp(r_is_i-\\lambda/N)$\n",
    "* This avoids summing spike trains, so it's okay if $r_is_i$ is close to 1 (i.e. we don't need sparsity).\n",
    "* We can do $N\\times K$ initial coin flips, each with probability $\\lambda/N$. \n",
    "* Whenever coin $(n,k)$ lands heads up, we perform a second coin flip with probability $r_ns_n/\\lambda\\sqrt{N}$.\n",
    "* If all of the second round coin flips come up heads, we transmit a spike.\n",
    "* Spike probability: $\\prod_n\\prod_k 1-\\frac{\\lambda}{K}(1-r_ns_n/\\lambda\\sqrt{N}) = \\prod_n [1-\\frac{\\lambda}{K}(1-r_ns_n/\\lambda\\sqrt{N})]^K\\prod_n [1-\\frac{\\lambda-r_ns_n/\\sqrt{N}}{K})]^K\\approx \\prod_n e^{r_ns_n/\\sqrt{N}-\\lambda}=e^{r\\cdot s/\\sqrt{N}-N\\lambda}$\n",
    "\n",
    "##### Below is a full exmaple, including adjusting $\\lambda$."
   ]
  },
  {
   "cell_type": "code",
   "execution_count": 56,
   "metadata": {
    "slideshow": {
     "slide_type": "slide"
    }
   },
   "outputs": [
    {
     "name": "stdout",
     "output_type": "stream",
     "text": [
      "Total probability:  0.131\n",
      "Lambda:  1\n",
      "Total probability:  0.572\n",
      "Lambda:  0.6367000000000002\n",
      "Total probability:  0.9\n",
      "Lambda:  0.5198000000000002\n",
      "Total probability:  0.994\n",
      "Lambda:  0.4934000000000001\n",
      "Total probability:  1.027\n",
      "Lambda:  0.49170000000000014\n",
      "Total probability:  1.045\n",
      "Lambda:  0.49110000000000004\n",
      "Total probability:  0.923\n",
      "Lambda:  0.5037\n",
      "Total probability:  0.988\n",
      "Lambda:  0.49230000000000007\n",
      "Total probability:  1.04\n",
      "Lambda:  0.4903000000000001\n",
      "Total probability:  1.0150000000000001\n",
      "Lambda:  0.4934000000000001\n",
      "\n",
      "Attention scores:  [[0.414 0.294 0.567 0.362 0.166]]\n",
      "Exact softmax:  [[0.209 0.185 0.244 0.199 0.163]]\n",
      "Approximation using spikes:  [0.203 0.19  0.244 0.195 0.163]\n",
      "Error:  1.8828207345448267 %\n",
      "Total probability:  0.9951\n"
     ]
    }
   ],
   "source": [
    "np.set_printoptions(precision=3)\n",
    "n_embed=4 # Embedding dimension\n",
    "n_keys=5 # Number keys\n",
    "N=1000 # How many coins to flip in first phase\n",
    "T=200 \n",
    "dt=0.1\n",
    "lam=1\n",
    "max_rate = 1.0\n",
    "\n",
    "# Get keys/query and compute exact scaled dot products\n",
    "q =  max_rate*np.random.random((n_embed,1)) # Query\n",
    "K = max_rate*np.random.random((n_embed,n_keys)) # Keys\n",
    "\n",
    "# Get correct lambda value\n",
    "##################################################################################\n",
    "\n",
    "for i in range(50):\n",
    "    # Create spike arrays based on the values in q and K\n",
    "    q_spikes = np.random.random((N,T,n_embed,1))<q\n",
    "    K_spikes = np.random.random((N,T,n_embed,n_keys))<K\n",
    "    scaling_spikes = np.random.random((N,T,n_embed,n_keys)) < 1/(lam*np.sqrt(n_embed)) # K x N matrix of boolean mask\n",
    "    # scaling_spikes = np.random.random((1,T,n_embed,n_keys)) < 1/lam*np.sqrt(n_embed) # K x N matrix of boolean mask\n",
    "    A_spikes = np.random.random((N,T,n_embed,n_keys)) < lam/T\n",
    "    B_spikes = q_spikes & K_spikes & scaling_spikes\n",
    "    approx_spikes = ~A_spikes | B_spikes # A->B \n",
    "\n",
    "    approx = np.mean(np.all(approx_spikes,axis=(1,2)),axis=0)\n",
    "    if i%5==0:\n",
    "        print(\"Total probability: \",np.sum(approx))\n",
    "        print(\"Lambda: \",lam)\n",
    "    lam -= dt*(1-np.sum(approx)) # Adjust lambda\n",
    "\n",
    "###################################################################################\n",
    "\n",
    "# Softmax\n",
    "####################################################################################\n",
    "N=10000\n",
    "T=1000\n",
    "\n",
    "attn_scores = q.T@K/np.sqrt(n_embed) # Exact attention scores\n",
    "print(\"\\nAttention scores: \",attn_scores)\n",
    "exact = softmax(attn_scores)\n",
    "print(\"Exact softmax: \",exact)\n",
    "\n",
    "# Create spike arrays based on the values in q and K\n",
    "q_spikes = np.random.random((N,T,n_embed,1))<q\n",
    "K_spikes = np.random.random((N,T,n_embed,n_keys))<K\n",
    "# scaling_spikes = np.random.random((N,T,n_embed,n_keys)) < 1/(lam*np.sqrt(n_embed)) # K x N matrix of boolean mask\n",
    "scaling_spikes = np.random.random((N,T,n_embed,n_keys)) < 1/(lam*np.sqrt(n_embed)) # K x N matrix of boolean mask\n",
    "A_spikes = np.random.random((N,T,n_embed,n_keys)) < lam/T\n",
    "B_spikes = q_spikes & K_spikes & scaling_spikes\n",
    "approx_spikes = ~A_spikes | B_spikes # A -> B\n",
    "\n",
    "approx = np.mean(np.all(approx_spikes,axis=(1,2)),axis=0)\n",
    "error = np.sqrt(np.mean((approx-exact)**2)/np.mean(exact**2))\n",
    "print(\"Approximation using spikes: \",approx)\n",
    "print(\"Error: \",100*error,'%')\n",
    "print(\"Total probability: \",np.sum(approx))\n"
   ]
  }
 ],
 "metadata": {
  "celltoolbar": "Slideshow",
  "kernelspec": {
   "display_name": "Python 3 (ipykernel)",
   "language": "python",
   "name": "python3"
  },
  "language_info": {
   "codemirror_mode": {
    "name": "ipython",
    "version": 3
   },
   "file_extension": ".py",
   "mimetype": "text/x-python",
   "name": "python",
   "nbconvert_exporter": "python",
   "pygments_lexer": "ipython3",
   "version": "3.9.12"
  }
 },
 "nbformat": 4,
 "nbformat_minor": 2
}
