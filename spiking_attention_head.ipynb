{
 "cells": [
  {
   "cell_type": "code",
   "execution_count": 24,
   "metadata": {},
   "outputs": [],
   "source": [
    "import numpy as np\n",
    "import matplotlib.pyplot as plt\n"
   ]
  },
  {
   "cell_type": "code",
   "execution_count": 25,
   "metadata": {},
   "outputs": [],
   "source": [
    "def softmax(x):\n",
    "    y = np.exp(x)\n",
    "    return y/np.sum(y)\n",
    "\n",
    "\n",
    "def ExpBernoulliAlt(c,lam,size=None,method='poisson',N=1000): # returns True with probability $e^{c-lam}$\n",
    "    if size is None: \n",
    "        size = (1,)\n",
    "    if type(size) is int:\n",
    "        size = (size,)\n",
    "    elif type(size) is not tuple:\n",
    "        raise TypeError(\"size must be int or tuple\")\n",
    "    \n",
    "    if method == 'poisson':\n",
    "        M=np.random.poisson(lam=lam,size=size) # Get integers from poisson(lam).\n",
    "    elif method == 'binomial': # N is number to flip\n",
    "        M=np.random.binomial(N,lam/N,size=size)\n",
    "\n",
    "    # if type(c) is float:\n",
    "    spikes = np.random.random(size)<np.power(c/lam,M) # Spike if all K trials are successful\n",
    "    return spikes"
   ]
  },
  {
   "cell_type": "markdown",
   "metadata": {},
   "source": [
    "Start with a unit norm query, q, key and value matrices Q and V. We want to do a spiking verysion of softmax(qK)V. \n",
    "\n",
    "For doing qK, we can use AND and OR gates as long as the spiking are random and independent and have low enough probability. I think. "
   ]
  },
  {
   "cell_type": "code",
   "execution_count": 26,
   "metadata": {},
   "outputs": [
    {
     "name": "stdout",
     "output_type": "stream",
     "text": [
      "Exact product:  0.09013\n",
      "Approximate product:  0.08405\n",
      "Percent error:  6.7464 %\n",
      "Angle:  0.91978  radians\n"
     ]
    }
   ],
   "source": [
    "N=256\n",
    "# M=100\n",
    "K=20000\n",
    "# x_prob,y_prob = np.random.random(N)/10,np.random.random(N)/10 # spike probability of each neuron\n",
    "x_prob,y_prob = np.abs(np.random.normal(0, 1./10, N)),np.abs(np.random.normal(0, 1./10, N)) # spike probability of each neuron\n",
    "\n",
    "xs = np.random.random((K,N)) < x_prob   # K x N matrix of boolean spikes for neuron x\n",
    "ys = np.random.random((K,N)) < y_prob   # K x N matrix of boolean spikes for neuron y\n",
    "mask = np.random.random((K,N)) < 1/np.sqrt(N) # K x N matrix of boolean mask\n",
    "\n",
    "zs = xs & ys & mask # K vector of boolean ANDs, then averaged over neurons\n",
    "output_spike_train = np.any(zs, axis=1) # K vector of boolean ORs\n",
    "approx = np.mean(output_spike_train) # average over K trials\n",
    "exact = np.dot(x_prob,y_prob)/np.sqrt(N)\n",
    "# exact = np.prod(np.dot(x_prob,y_prob)/np.sqrt(N))\n",
    "percent_error = np.abs(approx - exact) / exact * 100\n",
    "angle = np.arccos(np.dot(x_prob,y_prob)/np.sqrt(np.dot(x_prob,x_prob)*np.dot(y_prob,y_prob)))\n",
    "\n",
    "print(\"Exact product: \", round(exact, 5))\n",
    "print(\"Approximate product: \", round(approx, 5))\n",
    "print(\"Percent error: \", round(percent_error, 5), \"%\")\n",
    "print(\"Angle: \", round(angle, 5), \" radians\")\n"
   ]
  },
  {
   "cell_type": "code",
   "execution_count": null,
   "metadata": {},
   "outputs": [],
   "source": []
  },
  {
   "cell_type": "code",
   "execution_count": 38,
   "metadata": {},
   "outputs": [
    {
     "name": "stdout",
     "output_type": "stream",
     "text": [
      "Approx:  [0.00196 0.0015  0.00152 0.0016  0.00128 0.00138 0.00146 0.00142 0.00136\n",
      " 0.00124 0.0016  0.0012  0.0014  0.00146 0.00132 0.00132 0.00138 0.00148\n",
      " 0.00124 0.0012 ]\n",
      "Exact:  [[0.002      0.00150811 0.00144612 0.00145582 0.00132739 0.00138014\n",
      "  0.0014631  0.00149716 0.00152937 0.00152663 0.0014444  0.00142159\n",
      "  0.00135183 0.00143797 0.00143591 0.00144074 0.0014383  0.00151935\n",
      "  0.00133107 0.00131041]]\n",
      "Error : 0.032202687947090025\n",
      "Ratios:  [[0.98       0.99462099 1.05108667 1.09903407 0.96429497 0.99989942\n",
      "  0.99787923 0.94845991 0.88925541 0.8122449  1.10772767 0.84412464\n",
      "  1.03563071 1.01532158 0.9192772  0.91619864 0.95946749 0.97409907\n",
      "  0.93158228 0.91574142]]\n"
     ]
    },
    {
     "data": {
      "image/png": "[encoded data removed]",
      "text/plain": [
       "<Figure size 432x288 with 1 Axes>"
      ]
     },
     "metadata": {
      "needs_background": "light"
     },
     "output_type": "display_data"
    }
   ],
   "source": [
    "dm=100\n",
    "n_keys=20\n",
    "M=n_keys\n",
    "# M=100\n",
    "T=50000\n",
    "lam=2.5\n",
    "# R=20000\n",
    "# x_prob,y_prob = np.random.random(N)/10,np.random.random(N)/10 # spike probability of each neuron\n",
    "q,K = np.abs(np.random.normal(0, 1./10, (dm,1))),np.abs(np.random.normal(0, 1./10, (dm,n_keys))) # spike probability of each neuron\n",
    "q,K=np.random.random((dm,1)),np.random.random((dm,n_keys))\n",
    "# K[:,0]=K[:,0]*0.5+q[:,0]*0.5\n",
    "# K[:,1]=K[:,1]*0.8+q[:,0]*0.2\n",
    "K[:,0]=q[:,0]\n",
    "# Normalize\n",
    "K /= np.sqrt(np.sum(K**2,axis=0,keepdims=True))\n",
    "q /= np.sqrt(np.sum(q**2,axis=0,keepdims=True))\n",
    "\n",
    "V = np.random.random((dm,n_keys))-0.5   # Value matrix\n",
    "\n",
    "# Baseline using continuous values\n",
    "attn_scores = q.T@K/(50*np.sqrt(dm))\n",
    "\n",
    "# Spiking approximation\n",
    "q_spikes = np.random.random((T,dm,1))<q\n",
    "K_spikes = np.random.random((T,dm,n_keys))<K\n",
    "mask = np.random.random((T,dm,n_keys)) < 1/(50*np.sqrt(dm)) # K x N matrix of boolean mask\n",
    "attn_score_spikes = q_spikes & K_spikes & mask\n",
    "\n",
    "attn_score_spikes = np.any(attn_score_spikes, axis=1)\n",
    "# attn_score_spikes = np.sum(attn_score_spikes, axis=1)\n",
    "\n",
    "approx_attn_scores = np.mean(attn_score_spikes, axis=0)\n",
    "\n",
    "# Compare\n",
    "print(\"Approx: \",approx_attn_scores)\n",
    "print(\"Exact: \",attn_scores)\n",
    "print(\"Error :\",1-np.mean(approx_attn_scores/attn_scores))\n",
    "print(\"Ratios: \",approx_attn_scores/attn_scores)\n",
    "\n",
    "# Scatter plot\n",
    "# plt.scatter(attn_scores, approx_attn_scores)\n",
    "\n",
    "# Add labels and title\n",
    "plt.xlabel('Exact Attention Scores')\n",
    "plt.ylabel('Approximate Attention Scores')\n",
    "plt.title('Exact vs Approximate Attention Scores')\n",
    "\n",
    "# Scatter plot\n",
    "plt.scatter(attn_scores, approx_attn_scores)\n",
    "# Add y=x line\n",
    "plt.plot([np.min(attn_scores), np.max(attn_scores)], [np.min(attn_scores), np.max(attn_scores)], color='black', linestyle='dashed')\n",
    "\n",
    "# Show the plot\n",
    "plt.show()\n",
    "\n"
   ]
  },
  {
   "cell_type": "code",
   "execution_count": 34,
   "metadata": {},
   "outputs": [
    {
     "name": "stdout",
     "output_type": "stream",
     "text": [
      "Approx : [0.096 0.094 0.084 0.082 0.092 0.084 0.082 0.088 0.086 0.102 0.094 0.088\n",
      " 0.098 0.09  0.094 0.092 0.102 0.09  0.086 0.086]\n",
      "Exact:  [[0.1        0.07591026 0.07393153 0.07666985 0.07402809 0.07000596\n",
      "  0.07088452 0.07685    0.07300686 0.07437543 0.07594129 0.0762364\n",
      "  0.07551446 0.07362136 0.07728051 0.0743656  0.07741174 0.07859786\n",
      "  0.07764515 0.07697252]]\n",
      "Error : -0.1875686704183599\n",
      "Ratios:  [[0.96       1.23830431 1.13618638 1.06952086 1.24277148 1.1998978\n",
      "  1.15681105 1.14508782 1.17797154 1.37142056 1.23779838 1.15430417\n",
      "  1.29776473 1.22247129 1.21634811 1.23713111 1.31762962 1.14506933\n",
      "  1.10760304 1.11728183]]\n"
     ]
    }
   ],
   "source": [
    "\n",
    "outs=[]\n",
    "for trial in range(500):\n",
    "    T=np.random.poisson(lam=lam,size=1)[0] # Get integers from poisson(lam). Number of successes needs\n",
    "    # Spiking approximation\n",
    "    q_spikes = np.random.random((T,dm,1))<q\n",
    "    K_spikes = np.random.random((T,dm,n_keys))<K\n",
    "    mask = np.random.random((T,dm,n_keys)) < 1/np.sqrt(dm) # K x N matrix of boolean mask\n",
    "    attn_score_spikes = q_spikes & K_spikes & mask\n",
    "    sum_spikes = np.any(attn_score_spikes, axis=1)\n",
    "    out = np.all(sum_spikes, axis=0,keepdims=True)\n",
    "    # flips = np.random.random((T,M))<lam/T\n",
    "    # lam_invert = np.random.random((T,M))<1/lam\n",
    "    # # ~flips | (sum_spikes & lam_invert)\n",
    "    # out = np.all(~flips | (sum_spikes & lam_invert), axis=0,keepdims=True)\n",
    "    outs.append(out)\n",
    "outs = np.concatenate(outs,axis=0)\n",
    "mean_out = np.mean(outs,axis=0)\n",
    "print(\"Approx :\",mean_out)\n",
    "print(\"Exact: \",attn_scores)\n",
    "print(\"Error :\",1-np.mean(mean_out/attn_scores))\n",
    "print(\"Ratios: \",mean_out/attn_scores)\n",
    "\n",
    "\n",
    "# q_spikes = np.random.random((T,N,1))<q\n",
    "# K_spikes = np.random.random((T,N,M))<K\n",
    "# mask = np.random.random((T,N,M)) < 1/np.sqrt(N) # K x N matrix of boolean mask\n",
    "# score_spikes = q_spikes & K_spikes & mask\n",
    "# sum_spikes = np.any(score_spikes, axis=1)\n",
    "# flips = np.random.random((T,M))<lam/T\n",
    "# lam_invert = np.random.random((T,M))<1/lam\n",
    "# # ~flips | (sum_spikes & lam_invert)\n",
    "# out = np.all(~flips | (sum_spikes & lam_invert), axis=0,keepdims=True)\n",
    "# # print(np.shape(out))\n",
    "# print(out/attn_scores)\n",
    "# # sum_spikes_reduced = sum_spikes @\n",
    "# # mean_spikes = np.mean(sum_spikes, axis=0,keepdims=True)\n",
    "# # print(np.shape(sum_spikes))\n",
    "# print(np.shape(attn_scores))\n",
    "# error = mean_spikes-attn_scores\n",
    "# print(np.sqrt(np.mean(error**2)))\n",
    "# print(np.sqrt(np.mean(attn_scores**2)))\n",
    "\n",
    "\n"
   ]
  }
 ],
 "metadata": {
  "kernelspec": {
   "display_name": "Python 3",
   "language": "python",
   "name": "python3"
  },
  "language_info": {
   "codemirror_mode": {
    "name": "ipython",
    "version": 3
   },
   "file_extension": ".py",
   "mimetype": "text/x-python",
   "name": "python",
   "nbconvert_exporter": "python",
   "pygments_lexer": "ipython3",
   "version": "3.10.12"
  }
 },
 "nbformat": 4,
 "nbformat_minor": 2
}
