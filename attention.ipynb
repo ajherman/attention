{
 "cells": [
  {
   "cell_type": "code",
   "execution_count": 25,
   "metadata": {},
   "outputs": [
    {
     "name": "stdout",
     "output_type": "stream",
     "text": [
      "Requirement already satisfied: datasets in /home/ari/anaconda3/envs/pytorch/lib/python3.10/site-packages (2.15.0)\n",
      "Requirement already satisfied: pyyaml>=5.1 in /home/ari/anaconda3/envs/pytorch/lib/python3.10/site-packages (from datasets) (6.0.1)\n",
      "Requirement already satisfied: multiprocess in /home/ari/anaconda3/envs/pytorch/lib/python3.10/site-packages (from datasets) (0.70.15)\n",
      "Requirement already satisfied: numpy>=1.17 in /home/ari/.local/lib/python3.10/site-packages (from datasets) (1.26.2)\n",
      "Requirement already satisfied: aiohttp in /home/ari/anaconda3/envs/pytorch/lib/python3.10/site-packages (from datasets) (3.9.1)\n",
      "Requirement already satisfied: requests>=2.19.0 in /home/ari/anaconda3/envs/pytorch/lib/python3.10/site-packages (from datasets) (2.31.0)\n",
      "Requirement already satisfied: packaging in /home/ari/anaconda3/envs/pytorch/lib/python3.10/site-packages (from datasets) (23.2)\n",
      "Requirement already satisfied: huggingface-hub>=0.18.0 in /home/ari/anaconda3/envs/pytorch/lib/python3.10/site-packages (from datasets) (0.19.4)\n",
      "Requirement already satisfied: pyarrow>=8.0.0 in /home/ari/anaconda3/envs/pytorch/lib/python3.10/site-packages (from datasets) (14.0.1)\n",
      "Requirement already satisfied: xxhash in /home/ari/anaconda3/envs/pytorch/lib/python3.10/site-packages (from datasets) (3.4.1)\n",
      "Requirement already satisfied: pandas in /home/ari/.local/lib/python3.10/site-packages (from datasets) (2.1.3)\n",
      "Requirement already satisfied: pyarrow-hotfix in /home/ari/anaconda3/envs/pytorch/lib/python3.10/site-packages (from datasets) (0.6)\n",
      "Requirement already satisfied: tqdm>=4.62.1 in /home/ari/anaconda3/envs/pytorch/lib/python3.10/site-packages (from datasets) (4.66.1)\n",
      "Requirement already satisfied: fsspec[http]<=2023.10.0,>=2023.1.0 in /home/ari/anaconda3/envs/pytorch/lib/python3.10/site-packages (from datasets) (2023.10.0)\n",
      "Requirement already satisfied: dill<0.3.8,>=0.3.0 in /home/ari/anaconda3/envs/pytorch/lib/python3.10/site-packages (from datasets) (0.3.7)\n",
      "Requirement already satisfied: async-timeout<5.0,>=4.0 in /home/ari/anaconda3/envs/pytorch/lib/python3.10/site-packages (from aiohttp->datasets) (4.0.3)\n",
      "Requirement already satisfied: frozenlist>=1.1.1 in /home/ari/anaconda3/envs/pytorch/lib/python3.10/site-packages (from aiohttp->datasets) (1.4.0)\n",
      "Requirement already satisfied: yarl<2.0,>=1.0 in /home/ari/anaconda3/envs/pytorch/lib/python3.10/site-packages (from aiohttp->datasets) (1.9.4)\n",
      "Requirement already satisfied: multidict<7.0,>=4.5 in /home/ari/anaconda3/envs/pytorch/lib/python3.10/site-packages (from aiohttp->datasets) (6.0.4)\n",
      "Requirement already satisfied: aiosignal>=1.1.2 in /home/ari/anaconda3/envs/pytorch/lib/python3.10/site-packages (from aiohttp->datasets) (1.3.1)\n",
      "Requirement already satisfied: attrs>=17.3.0 in /home/ari/anaconda3/envs/pytorch/lib/python3.10/site-packages (from aiohttp->datasets) (23.1.0)\n",
      "Requirement already satisfied: filelock in /home/ari/anaconda3/envs/pytorch/lib/python3.10/site-packages (from huggingface-hub>=0.18.0->datasets) (3.13.1)\n",
      "Requirement already satisfied: typing-extensions>=3.7.4.3 in /home/ari/anaconda3/envs/pytorch/lib/python3.10/site-packages (from huggingface-hub>=0.18.0->datasets) (4.3.0)\n",
      "Requirement already satisfied: charset-normalizer<4,>=2 in /home/ari/anaconda3/envs/pytorch/lib/python3.10/site-packages (from requests>=2.19.0->datasets) (3.3.2)\n",
      "Requirement already satisfied: idna<4,>=2.5 in /home/ari/anaconda3/envs/pytorch/lib/python3.10/site-packages (from requests>=2.19.0->datasets) (3.6)\n",
      "Requirement already satisfied: certifi>=2017.4.17 in /home/ari/anaconda3/envs/pytorch/lib/python3.10/site-packages (from requests>=2.19.0->datasets) (2023.11.17)\n",
      "Requirement already satisfied: urllib3<3,>=1.21.1 in /home/ari/anaconda3/envs/pytorch/lib/python3.10/site-packages (from requests>=2.19.0->datasets) (2.1.0)\n",
      "Requirement already satisfied: python-dateutil>=2.8.2 in /home/ari/.local/lib/python3.10/site-packages (from pandas->datasets) (2.8.2)\n",
      "Requirement already satisfied: tzdata>=2022.1 in /home/ari/.local/lib/python3.10/site-packages (from pandas->datasets) (2023.3)\n",
      "Requirement already satisfied: pytz>=2020.1 in /home/ari/anaconda3/envs/pytorch/lib/python3.10/site-packages (from pandas->datasets) (2023.3.post1)\n",
      "Requirement already satisfied: six>=1.5 in /home/ari/anaconda3/envs/pytorch/lib/python3.10/site-packages (from python-dateutil>=2.8.2->pandas->datasets) (1.16.0)\n"
     ]
    }
   ],
   "source": [
    "!pip install datasets\n"
   ]
  },
  {
   "cell_type": "code",
   "execution_count": 26,
   "metadata": {},
   "outputs": [
    {
     "name": "stdout",
     "output_type": "stream",
     "text": [
      "<class 'datasets.dataset_dict.DatasetDict'>\n",
      "dict_keys(['train', 'validation', 'test'])\n",
      "<class 'datasets.arrow_dataset.Dataset'>\n"
     ]
    }
   ],
   "source": [
    "import torch\n",
    "from torch.utils.data import DataLoader\n",
    "\n",
    "# Set seed\n",
    "torch.manual_seed(1337)\n",
    "\n",
    "from datasets import load_dataset\n",
    "\n",
    "dataset = load_dataset(\"tiny_shakespeare\")\n",
    "\n",
    "print(type(dataset))\n",
    "print(dataset.keys())\n",
    "print(type(dataset['train']))\n",
    "\n",
    "# dataset.set_format(type=\"torch\")\n",
    "# dataloader = DataLoader(dataset, batch_size=64)\n",
    "\n",
    "# for x in dataloader:\n",
    "#     print(type(x))\n",
    "#     assert(0)\n"
   ]
  },
  {
   "cell_type": "code",
   "execution_count": 6,
   "metadata": {},
   "outputs": [
    {
     "ename": "TypeError",
     "evalue": "Instance and class checks can only be used with @runtime_checkable protocols",
     "output_type": "error",
     "traceback": [
      "\u001b[0;31m---------------------------------------------------------------------------\u001b[0m",
      "\u001b[0;31mTypeError\u001b[0m                                 Traceback (most recent call last)",
      "\u001b[1;32m/home/ari/attention/attention.ipynb Cell 3\u001b[0m line \u001b[0;36m2\n\u001b[1;32m     <a href='vscode-notebook-cell:/home/ari/attention/attention.ipynb#W2sZmlsZQ%3D%3D?line=20'>21</a>\u001b[0m         \u001b[39mreturn\u001b[39;00m \u001b[39m0\u001b[39m\n\u001b[1;32m     <a href='vscode-notebook-cell:/home/ari/attention/attention.ipynb#W2sZmlsZQ%3D%3D?line=22'>23</a>\u001b[0m dataset\u001b[39m=\u001b[39mShakespeareData(\u001b[39m20\u001b[39m)\n\u001b[0;32m---> <a href='vscode-notebook-cell:/home/ari/attention/attention.ipynb#W2sZmlsZQ%3D%3D?line=23'>24</a>\u001b[0m dataloader \u001b[39m=\u001b[39m DataLoader(dataset)\n\u001b[1;32m     <a href='vscode-notebook-cell:/home/ari/attention/attention.ipynb#W2sZmlsZQ%3D%3D?line=25'>26</a>\u001b[0m \u001b[39m# for i,(x,y) in enumerate(dataloader):\u001b[39;00m\n\u001b[1;32m     <a href='vscode-notebook-cell:/home/ari/attention/attention.ipynb#W2sZmlsZQ%3D%3D?line=26'>27</a>\u001b[0m \u001b[39m#     print(x)\u001b[39;00m\n\u001b[1;32m     <a href='vscode-notebook-cell:/home/ari/attention/attention.ipynb#W2sZmlsZQ%3D%3D?line=27'>28</a>\u001b[0m \u001b[39m#     print(y)\u001b[39;00m\n\u001b[1;32m     <a href='vscode-notebook-cell:/home/ari/attention/attention.ipynb#W2sZmlsZQ%3D%3D?line=28'>29</a>\u001b[0m \u001b[39m#     if i>2:\u001b[39;00m\n\u001b[1;32m     <a href='vscode-notebook-cell:/home/ari/attention/attention.ipynb#W2sZmlsZQ%3D%3D?line=29'>30</a>\u001b[0m \u001b[39m#         assert(0)\u001b[39;00m\n",
      "File \u001b[0;32m~/anaconda3/envs/pytorch/lib/python3.10/site-packages/torch/utils/data/dataloader.py:200\u001b[0m, in \u001b[0;36mDataLoader.__init__\u001b[0;34m(self, dataset, batch_size, shuffle, sampler, batch_sampler, num_workers, collate_fn, pin_memory, drop_last, timeout, worker_init_fn, multiprocessing_context, generator, prefetch_factor, persistent_workers)\u001b[0m\n\u001b[1;32m    194\u001b[0m \u001b[39mself\u001b[39m\u001b[39m.\u001b[39mmultiprocessing_context \u001b[39m=\u001b[39m multiprocessing_context\n\u001b[1;32m    196\u001b[0m \u001b[39m# Arg-check dataset related before checking samplers because we want to\u001b[39;00m\n\u001b[1;32m    197\u001b[0m \u001b[39m# tell users that iterable-style datasets are incompatible with custom\u001b[39;00m\n\u001b[1;32m    198\u001b[0m \u001b[39m# samplers first, so that they don't learn that this combo doesn't work\u001b[39;00m\n\u001b[1;32m    199\u001b[0m \u001b[39m# after spending time fixing the custom sampler errors.\u001b[39;00m\n\u001b[0;32m--> 200\u001b[0m \u001b[39mif\u001b[39;00m \u001b[39misinstance\u001b[39;49m(dataset, IterableDataset):\n\u001b[1;32m    201\u001b[0m     \u001b[39mself\u001b[39m\u001b[39m.\u001b[39m_dataset_kind \u001b[39m=\u001b[39m _DatasetKind\u001b[39m.\u001b[39mIterable\n\u001b[1;32m    202\u001b[0m     \u001b[39m# NOTE [ Custom Samplers and IterableDataset ]\u001b[39;00m\n\u001b[1;32m    203\u001b[0m     \u001b[39m#\u001b[39;00m\n\u001b[1;32m    204\u001b[0m     \u001b[39m# `IterableDataset` does not support custom `batch_sampler` or\u001b[39;00m\n\u001b[0;32m   (...)\u001b[0m\n\u001b[1;32m    225\u001b[0m     \u001b[39m# this, and support custom samplers that specify the assignments to\u001b[39;00m\n\u001b[1;32m    226\u001b[0m     \u001b[39m# specific workers.\u001b[39;00m\n",
      "File \u001b[0;32m~/anaconda3/envs/pytorch/lib/python3.10/typing.py:1498\u001b[0m, in \u001b[0;36m_ProtocolMeta.__instancecheck__\u001b[0;34m(cls, instance)\u001b[0m\n\u001b[1;32m   1490\u001b[0m \u001b[39mdef\u001b[39;00m \u001b[39m__instancecheck__\u001b[39m(\u001b[39mcls\u001b[39m, instance):\n\u001b[1;32m   1491\u001b[0m     \u001b[39m# We need this method for situations where attributes are\u001b[39;00m\n\u001b[1;32m   1492\u001b[0m     \u001b[39m# assigned in __init__.\u001b[39;00m\n\u001b[1;32m   1493\u001b[0m     \u001b[39mif\u001b[39;00m (\n\u001b[1;32m   1494\u001b[0m         \u001b[39mgetattr\u001b[39m(\u001b[39mcls\u001b[39m, \u001b[39m'\u001b[39m\u001b[39m_is_protocol\u001b[39m\u001b[39m'\u001b[39m, \u001b[39mFalse\u001b[39;00m) \u001b[39mand\u001b[39;00m\n\u001b[1;32m   1495\u001b[0m         \u001b[39mnot\u001b[39;00m \u001b[39mgetattr\u001b[39m(\u001b[39mcls\u001b[39m, \u001b[39m'\u001b[39m\u001b[39m_is_runtime_protocol\u001b[39m\u001b[39m'\u001b[39m, \u001b[39mFalse\u001b[39;00m) \u001b[39mand\u001b[39;00m\n\u001b[1;32m   1496\u001b[0m         \u001b[39mnot\u001b[39;00m _allow_reckless_class_checks(depth\u001b[39m=\u001b[39m\u001b[39m2\u001b[39m)\n\u001b[1;32m   1497\u001b[0m     ):\n\u001b[0;32m-> 1498\u001b[0m         \u001b[39mraise\u001b[39;00m \u001b[39mTypeError\u001b[39;00m(\u001b[39m\"\u001b[39m\u001b[39mInstance and class checks can only be used with\u001b[39m\u001b[39m\"\u001b[39m\n\u001b[1;32m   1499\u001b[0m                         \u001b[39m\"\u001b[39m\u001b[39m @runtime_checkable protocols\u001b[39m\u001b[39m\"\u001b[39m)\n\u001b[1;32m   1501\u001b[0m     \u001b[39mif\u001b[39;00m ((\u001b[39mnot\u001b[39;00m \u001b[39mgetattr\u001b[39m(\u001b[39mcls\u001b[39m, \u001b[39m'\u001b[39m\u001b[39m_is_protocol\u001b[39m\u001b[39m'\u001b[39m, \u001b[39mFalse\u001b[39;00m) \u001b[39mor\u001b[39;00m\n\u001b[1;32m   1502\u001b[0m             _is_callable_members_only(\u001b[39mcls\u001b[39m)) \u001b[39mand\u001b[39;00m\n\u001b[1;32m   1503\u001b[0m             \u001b[39missubclass\u001b[39m(instance\u001b[39m.\u001b[39m\u001b[39m__class__\u001b[39m, \u001b[39mcls\u001b[39m)):\n\u001b[1;32m   1504\u001b[0m         \u001b[39mreturn\u001b[39;00m \u001b[39mTrue\u001b[39;00m\n",
      "\u001b[0;31mTypeError\u001b[0m: Instance and class checks can only be used with @runtime_checkable protocols"
     ]
    }
   ],
   "source": [
    "# from utils import *\n",
    "from torch.utils.data import DataLoader\n",
    "\n",
    "# dataset = ShakespeareData(block_size=256)\n",
    "# dataset[3]\n",
    "# dataloader = DataLoader(dataset=dataset)\n",
    "\n",
    "from torch.utils.data import Dataset\n",
    "\n",
    "class ShakespeareData(Dataset):\n",
    "    def __init__(self, block_size):\n",
    "        # Initialization code here\n",
    "        pass\n",
    "\n",
    "    def __len__(self):\n",
    "        # Return the number of items in the dataset\n",
    "        return 10\n",
    "\n",
    "    def __getitem__(self, idx):\n",
    "        # Return the item at the given index\n",
    "        return 0,0\n",
    "\n",
    "dataset=ShakespeareData(20)\n",
    "dataloader = DataLoader(dataset)\n",
    "\n",
    "# for i,(x,y) in enumerate(dataloader):\n",
    "#     print(x)\n",
    "#     print(y)\n",
    "#     if i>2:\n",
    "#         assert(0)\n"
   ]
  }
 ],
 "metadata": {
  "kernelspec": {
   "display_name": "pytorch",
   "language": "python",
   "name": "python3"
  },
  "language_info": {
   "codemirror_mode": {
    "name": "ipython",
    "version": 3
   },
   "file_extension": ".py",
   "mimetype": "text/x-python",
   "name": "python",
   "nbconvert_exporter": "python",
   "pygments_lexer": "ipython3",
   "version": "3.10.6"
  }
 },
 "nbformat": 4,
 "nbformat_minor": 2
}
