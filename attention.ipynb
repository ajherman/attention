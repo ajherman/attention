{
 "cells": [
  {
   "cell_type": "code",
   "execution_count": 25,
   "metadata": {},
   "outputs": [
    {
     "name": "stdout",
     "output_type": "stream",
     "text": [
      "Requirement already satisfied: datasets in /home/ari/anaconda3/envs/pytorch/lib/python3.10/site-packages (2.15.0)\n",
      "Requirement already satisfied: pyyaml>=5.1 in /home/ari/anaconda3/envs/pytorch/lib/python3.10/site-packages (from datasets) (6.0.1)\n",
      "Requirement already satisfied: multiprocess in /home/ari/anaconda3/envs/pytorch/lib/python3.10/site-packages (from datasets) (0.70.15)\n",
      "Requirement already satisfied: numpy>=1.17 in /home/ari/.local/lib/python3.10/site-packages (from datasets) (1.26.2)\n",
      "Requirement already satisfied: aiohttp in /home/ari/anaconda3/envs/pytorch/lib/python3.10/site-packages (from datasets) (3.9.1)\n",
      "Requirement already satisfied: requests>=2.19.0 in /home/ari/anaconda3/envs/pytorch/lib/python3.10/site-packages (from datasets) (2.31.0)\n",
      "Requirement already satisfied: packaging in /home/ari/anaconda3/envs/pytorch/lib/python3.10/site-packages (from datasets) (23.2)\n",
      "Requirement already satisfied: huggingface-hub>=0.18.0 in /home/ari/anaconda3/envs/pytorch/lib/python3.10/site-packages (from datasets) (0.19.4)\n",
      "Requirement already satisfied: pyarrow>=8.0.0 in /home/ari/anaconda3/envs/pytorch/lib/python3.10/site-packages (from datasets) (14.0.1)\n",
      "Requirement already satisfied: xxhash in /home/ari/anaconda3/envs/pytorch/lib/python3.10/site-packages (from datasets) (3.4.1)\n",
      "Requirement already satisfied: pandas in /home/ari/.local/lib/python3.10/site-packages (from datasets) (2.1.3)\n",
      "Requirement already satisfied: pyarrow-hotfix in /home/ari/anaconda3/envs/pytorch/lib/python3.10/site-packages (from datasets) (0.6)\n",
      "Requirement already satisfied: tqdm>=4.62.1 in /home/ari/anaconda3/envs/pytorch/lib/python3.10/site-packages (from datasets) (4.66.1)\n",
      "Requirement already satisfied: fsspec[http]<=2023.10.0,>=2023.1.0 in /home/ari/anaconda3/envs/pytorch/lib/python3.10/site-packages (from datasets) (2023.10.0)\n",
      "Requirement already satisfied: dill<0.3.8,>=0.3.0 in /home/ari/anaconda3/envs/pytorch/lib/python3.10/site-packages (from datasets) (0.3.7)\n",
      "Requirement already satisfied: async-timeout<5.0,>=4.0 in /home/ari/anaconda3/envs/pytorch/lib/python3.10/site-packages (from aiohttp->datasets) (4.0.3)\n",
      "Requirement already satisfied: frozenlist>=1.1.1 in /home/ari/anaconda3/envs/pytorch/lib/python3.10/site-packages (from aiohttp->datasets) (1.4.0)\n",
      "Requirement already satisfied: yarl<2.0,>=1.0 in /home/ari/anaconda3/envs/pytorch/lib/python3.10/site-packages (from aiohttp->datasets) (1.9.4)\n",
      "Requirement already satisfied: multidict<7.0,>=4.5 in /home/ari/anaconda3/envs/pytorch/lib/python3.10/site-packages (from aiohttp->datasets) (6.0.4)\n",
      "Requirement already satisfied: aiosignal>=1.1.2 in /home/ari/anaconda3/envs/pytorch/lib/python3.10/site-packages (from aiohttp->datasets) (1.3.1)\n",
      "Requirement already satisfied: attrs>=17.3.0 in /home/ari/anaconda3/envs/pytorch/lib/python3.10/site-packages (from aiohttp->datasets) (23.1.0)\n",
      "Requirement already satisfied: filelock in /home/ari/anaconda3/envs/pytorch/lib/python3.10/site-packages (from huggingface-hub>=0.18.0->datasets) (3.13.1)\n",
      "Requirement already satisfied: typing-extensions>=3.7.4.3 in /home/ari/anaconda3/envs/pytorch/lib/python3.10/site-packages (from huggingface-hub>=0.18.0->datasets) (4.3.0)\n",
      "Requirement already satisfied: charset-normalizer<4,>=2 in /home/ari/anaconda3/envs/pytorch/lib/python3.10/site-packages (from requests>=2.19.0->datasets) (3.3.2)\n",
      "Requirement already satisfied: idna<4,>=2.5 in /home/ari/anaconda3/envs/pytorch/lib/python3.10/site-packages (from requests>=2.19.0->datasets) (3.6)\n",
      "Requirement already satisfied: certifi>=2017.4.17 in /home/ari/anaconda3/envs/pytorch/lib/python3.10/site-packages (from requests>=2.19.0->datasets) (2023.11.17)\n",
      "Requirement already satisfied: urllib3<3,>=1.21.1 in /home/ari/anaconda3/envs/pytorch/lib/python3.10/site-packages (from requests>=2.19.0->datasets) (2.1.0)\n",
      "Requirement already satisfied: python-dateutil>=2.8.2 in /home/ari/.local/lib/python3.10/site-packages (from pandas->datasets) (2.8.2)\n",
      "Requirement already satisfied: tzdata>=2022.1 in /home/ari/.local/lib/python3.10/site-packages (from pandas->datasets) (2023.3)\n",
      "Requirement already satisfied: pytz>=2020.1 in /home/ari/anaconda3/envs/pytorch/lib/python3.10/site-packages (from pandas->datasets) (2023.3.post1)\n",
      "Requirement already satisfied: six>=1.5 in /home/ari/anaconda3/envs/pytorch/lib/python3.10/site-packages (from python-dateutil>=2.8.2->pandas->datasets) (1.16.0)\n"
     ]
    }
   ],
   "source": [
    "!pip install datasets\n"
   ]
  },
  {
   "cell_type": "code",
   "execution_count": 26,
   "metadata": {},
   "outputs": [
    {
     "name": "stdout",
     "output_type": "stream",
     "text": [
      "<class 'datasets.dataset_dict.DatasetDict'>\n",
      "dict_keys(['train', 'validation', 'test'])\n",
      "<class 'datasets.arrow_dataset.Dataset'>\n"
     ]
    }
   ],
   "source": [
    "import torch\n",
    "from torch.utils.data import DataLoader\n",
    "\n",
    "# Set seed\n",
    "torch.manual_seed(1337)\n",
    "\n",
    "from datasets import load_dataset\n",
    "\n",
    "dataset = load_dataset(\"tiny_shakespeare\")\n",
    "\n",
    "print(type(dataset))\n",
    "print(dataset.keys())\n",
    "print(type(dataset['train']))\n",
    "\n",
    "# dataset.set_format(type=\"torch\")\n",
    "# dataloader = DataLoader(dataset, batch_size=64)\n",
    "\n",
    "# for x in dataloader:\n",
    "#     print(type(x))\n",
    "#     assert(0)\n"
   ]
  },
  {
   "cell_type": "code",
   "execution_count": null,
   "metadata": {},
   "outputs": [
    {
     "ename": "",
     "evalue": "",
     "output_type": "error",
     "traceback": [
      "\u001b[1;31mRunning cells with 'ml' requires the ipykernel package.\n",
      "\u001b[1;31mRun the following command to install 'ipykernel' into the Python environment. \n",
      "\u001b[1;31mCommand: 'conda install -n ml ipykernel --update-deps --force-reinstall'"
     ]
    }
   ],
   "source": [
    "# from utils import *\n",
    "import torch\n",
    "print(torch.__version__)\n",
    "from torch.utils.data import DataLoader\n",
    "\n",
    "# dataset = ShakespeareData(block_size=256)\n",
    "# dataset[3]\n",
    "# dataloader = DataLoader(dataset=dataset)\n",
    "\n",
    "from torch.utils.data import Dataset\n",
    "\n",
    "class ShakespeareData(Dataset):\n",
    "    def __init__(self, block_size):\n",
    "        # Initialization code here\n",
    "        pass\n",
    "\n",
    "    def __len__(self):\n",
    "        # Return the number of items in the dataset\n",
    "        return 10\n",
    "\n",
    "    def __getitem__(self, idx):\n",
    "        # Return the item at the given index\n",
    "        return 0,0\n",
    "\n",
    "dataset=ShakespeareData(20)\n",
    "dataloader = DataLoader(dataset)\n",
    "\n",
    "# for i,(x,y) in enumerate(dataloader):\n",
    "#     print(x)\n",
    "#     print(y)\n",
    "#     if i>2:\n",
    "#         assert(0)\n"
   ]
  },
  {
   "cell_type": "code",
   "execution_count": 2,
   "metadata": {},
   "outputs": [
    {
     "name": "stdout",
     "output_type": "stream",
     "text": [
      "--2023-12-11 11:23:04--  https://s3.amazonaws.com/research.metamind.io/wikitext/wikitext-103-raw-v1.zip\n",
      "Resolving s3.amazonaws.com (s3.amazonaws.com)... 54.231.200.24, 52.216.40.184, 52.216.245.134, ...\n",
      "Connecting to s3.amazonaws.com (s3.amazonaws.com)|54.231.200.24|:443... connected.\n",
      "HTTP request sent, awaiting response... 200 OK\n",
      "Length: 191984949 (183M) [application/zip]\n",
      "Saving to: ‘wikitext-103-raw-v1.zip’\n",
      "\n",
      "wikitext-103-raw-v1 100%[===================>] 183.09M  3.46MB/s    in 57s     \n",
      "\n",
      "2023-12-11 11:24:01 (3.23 MB/s) - ‘wikitext-103-raw-v1.zip’ saved [191984949/191984949]\n",
      "\n",
      "Archive:  wikitext-103-raw-v1.zip\n",
      "   creating: wikitext-103-raw/\n",
      "  inflating: wikitext-103-raw/wiki.test.raw  \n",
      "  inflating: wikitext-103-raw/wiki.valid.raw  \n",
      "  inflating: wikitext-103-raw/wiki.train.raw  \n"
     ]
    }
   ],
   "source": [
    "!wget https://s3.amazonaws.com/research.metamind.io/wikitext/wikitext-103-raw-v1.zip\n",
    "!unzip wikitext-103-raw-v1.zip\n"
   ]
  },
  {
   "cell_type": "code",
   "execution_count": 8,
   "metadata": {},
   "outputs": [
    {
     "name": "stdout",
     "output_type": "stream",
     "text": [
      "Requirement already satisfied: tokenizers in /home/ari/anaconda3/envs/pytorch/lib/python3.10/site-packages (0.15.0)\n",
      "Requirement already satisfied: huggingface_hub<1.0,>=0.16.4 in /home/ari/anaconda3/envs/pytorch/lib/python3.10/site-packages (from tokenizers) (0.19.4)\n",
      "Requirement already satisfied: typing-extensions>=3.7.4.3 in /home/ari/anaconda3/envs/pytorch/lib/python3.10/site-packages (from huggingface_hub<1.0,>=0.16.4->tokenizers) (4.3.0)\n",
      "Requirement already satisfied: packaging>=20.9 in /home/ari/anaconda3/envs/pytorch/lib/python3.10/site-packages (from huggingface_hub<1.0,>=0.16.4->tokenizers) (23.2)\n",
      "Requirement already satisfied: pyyaml>=5.1 in /home/ari/anaconda3/envs/pytorch/lib/python3.10/site-packages (from huggingface_hub<1.0,>=0.16.4->tokenizers) (6.0.1)\n",
      "Requirement already satisfied: fsspec>=2023.5.0 in /home/ari/anaconda3/envs/pytorch/lib/python3.10/site-packages (from huggingface_hub<1.0,>=0.16.4->tokenizers) (2023.10.0)\n",
      "Requirement already satisfied: filelock in /home/ari/anaconda3/envs/pytorch/lib/python3.10/site-packages (from huggingface_hub<1.0,>=0.16.4->tokenizers) (3.13.1)\n",
      "Requirement already satisfied: requests in /home/ari/anaconda3/envs/pytorch/lib/python3.10/site-packages (from huggingface_hub<1.0,>=0.16.4->tokenizers) (2.31.0)\n",
      "Requirement already satisfied: tqdm>=4.42.1 in /home/ari/anaconda3/envs/pytorch/lib/python3.10/site-packages (from huggingface_hub<1.0,>=0.16.4->tokenizers) (4.66.1)\n",
      "Requirement already satisfied: idna<4,>=2.5 in /home/ari/anaconda3/envs/pytorch/lib/python3.10/site-packages (from requests->huggingface_hub<1.0,>=0.16.4->tokenizers) (3.6)\n",
      "Requirement already satisfied: urllib3<3,>=1.21.1 in /home/ari/anaconda3/envs/pytorch/lib/python3.10/site-packages (from requests->huggingface_hub<1.0,>=0.16.4->tokenizers) (2.1.0)\n",
      "Requirement already satisfied: certifi>=2017.4.17 in /home/ari/anaconda3/envs/pytorch/lib/python3.10/site-packages (from requests->huggingface_hub<1.0,>=0.16.4->tokenizers) (2023.11.17)\n",
      "Requirement already satisfied: charset-normalizer<4,>=2 in /home/ari/anaconda3/envs/pytorch/lib/python3.10/site-packages (from requests->huggingface_hub<1.0,>=0.16.4->tokenizers) (3.3.2)\n",
      "Requirement already satisfied: transformers in /home/ari/anaconda3/envs/pytorch/lib/python3.10/site-packages (4.36.0)\n",
      "Requirement already satisfied: packaging>=20.0 in /home/ari/anaconda3/envs/pytorch/lib/python3.10/site-packages (from transformers) (23.2)\n",
      "Requirement already satisfied: regex!=2019.12.17 in /home/ari/anaconda3/envs/pytorch/lib/python3.10/site-packages (from transformers) (2023.10.3)\n",
      "Requirement already satisfied: numpy>=1.17 in /home/ari/.local/lib/python3.10/site-packages (from transformers) (1.26.2)\n",
      "Requirement already satisfied: safetensors>=0.3.1 in /home/ari/anaconda3/envs/pytorch/lib/python3.10/site-packages (from transformers) (0.4.1)\n",
      "Requirement already satisfied: huggingface-hub<1.0,>=0.19.3 in /home/ari/anaconda3/envs/pytorch/lib/python3.10/site-packages (from transformers) (0.19.4)\n",
      "Requirement already satisfied: tokenizers<0.19,>=0.14 in /home/ari/anaconda3/envs/pytorch/lib/python3.10/site-packages (from transformers) (0.15.0)\n",
      "Requirement already satisfied: pyyaml>=5.1 in /home/ari/anaconda3/envs/pytorch/lib/python3.10/site-packages (from transformers) (6.0.1)\n",
      "Requirement already satisfied: tqdm>=4.27 in /home/ari/anaconda3/envs/pytorch/lib/python3.10/site-packages (from transformers) (4.66.1)\n",
      "Requirement already satisfied: requests in /home/ari/anaconda3/envs/pytorch/lib/python3.10/site-packages (from transformers) (2.31.0)\n",
      "Requirement already satisfied: filelock in /home/ari/anaconda3/envs/pytorch/lib/python3.10/site-packages (from transformers) (3.13.1)\n",
      "Requirement already satisfied: fsspec>=2023.5.0 in /home/ari/anaconda3/envs/pytorch/lib/python3.10/site-packages (from huggingface-hub<1.0,>=0.19.3->transformers) (2023.10.0)\n",
      "Requirement already satisfied: typing-extensions>=3.7.4.3 in /home/ari/anaconda3/envs/pytorch/lib/python3.10/site-packages (from huggingface-hub<1.0,>=0.19.3->transformers) (4.3.0)\n",
      "Requirement already satisfied: urllib3<3,>=1.21.1 in /home/ari/anaconda3/envs/pytorch/lib/python3.10/site-packages (from requests->transformers) (2.1.0)\n",
      "Requirement already satisfied: idna<4,>=2.5 in /home/ari/anaconda3/envs/pytorch/lib/python3.10/site-packages (from requests->transformers) (3.6)\n",
      "Requirement already satisfied: certifi>=2017.4.17 in /home/ari/anaconda3/envs/pytorch/lib/python3.10/site-packages (from requests->transformers) (2023.11.17)\n",
      "Requirement already satisfied: charset-normalizer<4,>=2 in /home/ari/anaconda3/envs/pytorch/lib/python3.10/site-packages (from requests->transformers) (3.3.2)\n"
     ]
    }
   ],
   "source": [
    "!pip install tokenizers\n",
    "!pip install transformers"
   ]
  },
  {
   "cell_type": "code",
   "execution_count": 10,
   "metadata": {},
   "outputs": [
    {
     "name": "stderr",
     "output_type": "stream",
     "text": [
      "vocab.json: 100%|██████████| 1.04M/1.04M [00:00<00:00, 2.90MB/s]\n",
      "merges.txt: 100%|██████████| 456k/456k [00:00<00:00, 2.33MB/s]\n",
      "tokenizer.json: 100%|██████████| 1.36M/1.36M [00:07<00:00, 172kB/s]\n",
      "config.json: 100%|██████████| 665/665 [00:00<00:00, 763kB/s]\n"
     ]
    }
   ],
   "source": [
    "from tokenizers import Tokenizer\n",
    "\n",
    "from transformers import GPT2Tokenizer, GPT2Model\n",
    "tokenizer = GPT2Tokenizer.from_pretrained('gpt2')"
   ]
  },
  {
   "cell_type": "code",
   "execution_count": 12,
   "metadata": {},
   "outputs": [
    {
     "name": "stdout",
     "output_type": "stream",
     "text": [
      "[31373, 11, 703, 389, 345]\n"
     ]
    }
   ],
   "source": [
    "x=tokenizer.encode('hello, how are you')\n",
    "print(x)"
   ]
  },
  {
   "cell_type": "code",
   "execution_count": 2,
   "metadata": {},
   "outputs": [
    {
     "name": "stdout",
     "output_type": "stream",
     "text": [
      "\n",
      "{'text': Value(dtype='string', id=None)}\n"
     ]
    },
    {
     "ename": "NameError",
     "evalue": "name 'DataLoader' is not defined",
     "output_type": "error",
     "traceback": [
      "\u001b[0;31m---------------------------------------------------------------------------\u001b[0m",
      "\u001b[0;31mNameError\u001b[0m                                 Traceback (most recent call last)",
      "\u001b[1;32m/home/ari/attention/attention.ipynb Cell 8\u001b[0m line \u001b[0;36m1\n\u001b[1;32m     <a href='vscode-notebook-cell:/home/ari/attention/attention.ipynb#X10sZmlsZQ%3D%3D?line=14'>15</a>\u001b[0m dataset \u001b[39m=\u001b[39m load_dataset(\u001b[39m\"\u001b[39m\u001b[39mnRuaif/tinystories-gpt4\u001b[39m\u001b[39m\"\u001b[39m)\n\u001b[1;32m     <a href='vscode-notebook-cell:/home/ari/attention/attention.ipynb#X10sZmlsZQ%3D%3D?line=16'>17</a>\u001b[0m dataset\u001b[39m.\u001b[39mset_format(\u001b[39mtype\u001b[39m\u001b[39m=\u001b[39m\u001b[39m\"\u001b[39m\u001b[39mtorch\u001b[39m\u001b[39m\"\u001b[39m)\n\u001b[0;32m---> <a href='vscode-notebook-cell:/home/ari/attention/attention.ipynb#X10sZmlsZQ%3D%3D?line=17'>18</a>\u001b[0m dataloader \u001b[39m=\u001b[39m DataLoader(dataset, batch_size\u001b[39m=\u001b[39m\u001b[39m64\u001b[39m)\n\u001b[1;32m     <a href='vscode-notebook-cell:/home/ari/attention/attention.ipynb#X10sZmlsZQ%3D%3D?line=18'>19</a>\u001b[0m \u001b[39mfor\u001b[39;00m x \u001b[39min\u001b[39;00m dataloader:\n\u001b[1;32m     <a href='vscode-notebook-cell:/home/ari/attention/attention.ipynb#X10sZmlsZQ%3D%3D?line=19'>20</a>\u001b[0m     \u001b[39mprint\u001b[39m(\u001b[39mtype\u001b[39m(x))\n",
      "\u001b[0;31mNameError\u001b[0m: name 'DataLoader' is not defined"
     ]
    }
   ],
   "source": [
    "from datasets import load_dataset_builder\n",
    "from datasets import load_dataset\n",
    "from torch.utils.data import DataLoader\n",
    "\n",
    "\n",
    "ds_builder = load_dataset_builder(\"nRuaif/tinystories-gpt4\")\n",
    "\n",
    "# Inspect dataset description\n",
    "print(ds_builder.info.description)\n",
    "# Movie Review Dataset. This is a dataset of containing 5,331 positive and 5,331 negative processed sentences from Rotten Tomatoes movie reviews. This data was first used in Bo Pang and Lillian Lee, ``Seeing stars: Exploiting class relationships for sentiment categorization with respect to rating scales.'', Proceedings of the ACL, 2005.\n",
    "\n",
    "# # Inspect dataset features\n",
    "print(ds_builder.info.features)\n",
    "# {'label': ClassLabel(num_classes=2, names=['neg', 'pos'], id=None),\n",
    "#  'text': Value(dtype='string', id=None)}\n",
    "\n",
    "dataset = load_dataset(\"nRuaif/tinystories-gpt4\")\n",
    "\n",
    "dataset.set_format(type=\"torch\")\n",
    "dataloader = DataLoader(dataset, batch_size=64)\n",
    "for x in dataloader:\n",
    "    print(type(x))\n",
    "    assert(0)"
   ]
  }
 ],
 "metadata": {
  "kernelspec": {
   "display_name": "ml",
   "language": "python",
   "name": "python3"
  },
  "language_info": {
   "codemirror_mode": {
    "name": "ipython",
    "version": 3
   },
   "file_extension": ".py",
   "mimetype": "text/x-python",
   "name": "python",
   "nbconvert_exporter": "python",
   "pygments_lexer": "ipython3",
   "version": "3.10.6"
  }
 },
 "nbformat": 4,
 "nbformat_minor": 2
}
