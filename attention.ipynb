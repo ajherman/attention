{
 "cells": [
  {
   "cell_type": "code",
   "execution_count": 1,
   "metadata": {},
   "outputs": [
    {
     "name": "stdout",
     "output_type": "stream",
     "text": [
      "Requirement already satisfied: matplotlib in /home/ari/anaconda3/envs/pytorch/lib/python3.10/site-packages (3.8.2)\n",
      "Requirement already satisfied: fonttools>=4.22.0 in /home/ari/anaconda3/envs/pytorch/lib/python3.10/site-packages (from matplotlib) (4.46.0)\n",
      "Requirement already satisfied: packaging>=20.0 in /home/ari/anaconda3/envs/pytorch/lib/python3.10/site-packages (from matplotlib) (23.2)\n",
      "Requirement already satisfied: pillow>=8 in /home/ari/anaconda3/envs/pytorch/lib/python3.10/site-packages (from matplotlib) (10.1.0)\n",
      "Requirement already satisfied: kiwisolver>=1.3.1 in /home/ari/anaconda3/envs/pytorch/lib/python3.10/site-packages (from matplotlib) (1.4.5)\n",
      "Requirement already satisfied: python-dateutil>=2.7 in /home/ari/.local/lib/python3.10/site-packages (from matplotlib) (2.8.2)\n",
      "Requirement already satisfied: pyparsing>=2.3.1 in /home/ari/anaconda3/envs/pytorch/lib/python3.10/site-packages (from matplotlib) (3.1.1)\n",
      "Requirement already satisfied: contourpy>=1.0.1 in /home/ari/anaconda3/envs/pytorch/lib/python3.10/site-packages (from matplotlib) (1.2.0)\n",
      "Requirement already satisfied: numpy<2,>=1.21 in /home/ari/.local/lib/python3.10/site-packages (from matplotlib) (1.26.2)\n",
      "Requirement already satisfied: cycler>=0.10 in /home/ari/anaconda3/envs/pytorch/lib/python3.10/site-packages (from matplotlib) (0.12.1)\n",
      "Requirement already satisfied: six>=1.5 in /home/ari/anaconda3/envs/pytorch/lib/python3.10/site-packages (from python-dateutil>=2.7->matplotlib) (1.16.0)\n"
     ]
    }
   ],
   "source": [
    "import torch\n",
    "!pip install matplotlib\n",
    "import matplotlib"
   ]
  },
  {
   "cell_type": "code",
   "execution_count": 2,
   "metadata": {},
   "outputs": [],
   "source": [
    "import numpy as np\n",
    "from matplotlib import pyplot as plt\n",
    "\n",
    "n_trials = 100000 # How many trials to average over\n",
    "n_tests = 10 # How many examples to try\n",
    "n=10 # Number of streams\n",
    "d=4 # Dimension of input\n",
    "eps=0 #1.529\n",
    "\n",
    "def softmax(x):\n",
    "    y = np.exp(x)\n",
    "    return y/np.sum(y)\n"
   ]
  },
  {
   "cell_type": "code",
   "execution_count": 3,
   "metadata": {},
   "outputs": [],
   "source": [
    "\n",
    "# for test in range(10):\n",
    "#     u = np.random.random((1,1,d)) # Input vector [a,b,c,d]\n",
    "#     input_spikes = 1.0*(np.random.random((n_trials,n,d))<u) # Get binary spikes based on input\n",
    "#     I = np.sum(input_spikes,axis=2,keepdims=True) # Get inhibition terms\n",
    "#     relu=np.maximum(0,1+(input_spikes-eps*I)/n) # Apply activation function step thingy\n",
    "#     exp = np.prod(relu,axis=1,keepdims=True) # Multiply streams\n",
    "#     approx = np.mean(exp,axis=0) # Estimate of softmax using this sampling method\n",
    "#\n",
    "#     # exact = softmax(u) # Actual softmax\n",
    "#     exact = np.exp(u) # Actual exponential\n",
    "#\n",
    "#     diff = exact - approx # Vector difference\n",
    "#     print(\"Error: \",int(100*np.sqrt(np.sum(diff**2)/np.sum(exact**2))),\"%\")\n"
   ]
  },
  {
   "cell_type": "code",
   "execution_count": 4,
   "metadata": {},
   "outputs": [
    {
     "name": "stdout",
     "output_type": "stream",
     "text": [
      "0.37084\n",
      "0.3678794411714424\n",
      "[[0.01714783 0.04661262 0.93623955]]\n",
      "[0.         0.03016551 0.96983449]\n",
      "Times returned no val:  6254 / 10000\n"
     ]
    },
    {
     "data": {
      "text/plain": [
       "'\\nThe basic idea is to draw a random K from Poisson(lam) and then do K coin flips, each with success\\nprobability p=a/lam. If ALL of the flips are successes, we will call the whole trial a success.\\nThen the probability of success is e^{a-lam} or e^{a-a/p}=e^{a(1-1/p)}. We can also roll a dice,\\nwith probabilities proportioal to the different possible values, a,b,c,... And then we call it\\na success for that value if every roll is that value.\\n'"
      ]
     },
     "execution_count": 4,
     "metadata": {},
     "output_type": "execute_result"
    }
   ],
   "source": [
    "\n",
    "\n",
    "# n_pop=100\n",
    "#\n",
    "# c=2\n",
    "#\n",
    "# for trail in range(n_tests):\n",
    "#     spikes = 1*(n_pop*np.random.random((n_pop,n_trials))<c) # Random spikes with probability (I-a)/n_pop\n",
    "#     print(\"Sparsity: \",1-np.mean(spikes))\n",
    "#     at_least_one_spike = 1*(np.sum(spikes,axis=0)>0) # 1 if there is at least one spike, 0 otherwise\n",
    "#     # at_least_one_spike = np.maximumnp.sum(spikes,axis=0))\n",
    "#     # print(at_least_one_spike)\n",
    "#     no_spikes = 1-at_least_one_spike\n",
    "#     approx = np.mean(no_spikes)\n",
    "#     # print(np.mean(no_spikes))\n",
    "#     # print(np.exp(-c))\n",
    "#     error = int(100*np.abs(approx*np.exp(c)-1))\n",
    "#     print(\"Error: \",error,\"%\")# n_pop=100\n",
    "#\n",
    "# c=2\n",
    "#\n",
    "# for trail in range(n_tests):\n",
    "#     spikes = 1*(n_pop*np.random.random((n_pop,n_trials))<c) # Random spikes with probability (I-a)/n_pop\n",
    "#     print(\"Sparsity: \",1-np.mean(spikes))\n",
    "#     at_least_one_spike = 1*(np.sum(spikes,axis=0)>0) # 1 if there is at least one spike, 0 otherwise\n",
    "#     # at_least_one_spike = np.maximumnp.sum(spikes,axis=0))\n",
    "#     # print(at_least_one_spike)\n",
    "#     no_spikes = 1-at_least_one_spike\n",
    "#     approx = np.mean(no_spikes)\n",
    "#     # print(np.mean(no_spikes))\n",
    "#     # print(np.exp(-c))\n",
    "#     error = int(100*np.abs(approx*np.exp(c)-1))\n",
    "#     print(\"Error: \",error,\"%\")\n"
   ]
  },
  {
   "cell_type": "code",
   "execution_count": 13,
   "metadata": {},
   "outputs": [
    {
     "data": {
      "image/png": "[encoded data removed]",
      "text/plain": [
       "<Figure size 1600x400 with 1 Axes>"
      ]
     },
     "metadata": {},
     "output_type": "display_data"
    }
   ],
   "source": [
    "%matplotlib inline\n",
    "N=50 # Population size\n",
    "K=2000 # Number of trials\n",
    "exact_li=[]\n",
    "approx_li=[]\n",
    "error_li=[]\n",
    "C = np.linspace(0,10,100) # Inputs to test\n",
    "for c in C:\n",
    "    spikes = 1*(N*np.random.random((N,K))<c) # Random spikes with probability (I-a)/n_pop\n",
    "    # print(\"Sparsity: \",int(100*(1-np.mean(spikes))),\"%\")\n",
    "    at_least_one_spike = 1*(np.sum(spikes,axis=0)>0) # 1 if there is at least one spike, 0 otherwise\n",
    "    no_spikes = 1-at_least_one_spike\n",
    "    approx = np.mean(no_spikes)\n",
    "    exact = np.exp(-c)\n",
    "    error = int(100*np.abs(approx/exact-1))\n",
    "    approx_li.append(approx)\n",
    "    exact_li.append(exact)\n",
    "    error_li.append(error)\n",
    "    # print(\"Exact exponential: \",exact)\n",
    "    # print(\"Approximation: \",approx)\n",
    "    # print(\"Error: \",error,\"%\")\n",
    "\n",
    "fig,ax=plt.subplots(figsize=(16,4))\n",
    "ax.plot(C,exact_li,linewidth=4)\n",
    "ax.plot(C,approx_li,linewidth=2)\n",
    "plt.show()"
   ]
  },
  {
   "cell_type": "code",
   "execution_count": null,
   "metadata": {},
   "outputs": [],
   "source": [
    "\n",
    "# Works well for single exponential\n",
    "a=0\n",
    "lam=a+1\n",
    "N=100000\n",
    "K=np.random.poisson(lam=lam,size=N)\n",
    "\n",
    "probs=np.power(a/lam,K)\n",
    "approx=np.mean(np.random.random(N)<probs)\n",
    "print(approx)\n",
    "exact=np.exp(a-lam)\n",
    "print(exact)\n",
    "\n",
    "# Actual softmax?\n",
    "C=np.array([[1,2,5]])-1\n",
    "lam=np.sum(C)\n",
    "N=10000\n",
    "approx=[0,0,0]\n",
    "fails=0\n",
    "K=np.random.poisson(lam=lam,size=N)\n",
    "for k in K:\n",
    "    ak=np.random.choice([0,1,2],size=k,p=C[0]/lam)\n",
    "    if len(np.unique(ak))==1:\n",
    "        approx[ak[0]]+=1\n",
    "    else:\n",
    "        fails+=1\n",
    "print(softmax(C))\n",
    "print(approx/np.sum(approx))\n",
    "print(\"Times returned no val: \",fails,\"/\",N)\n"
   ]
  },
  {
   "cell_type": "code",
   "execution_count": null,
   "metadata": {},
   "outputs": [],
   "source": [
    "\n",
    "# Works well for single exponential\n",
    "a=0\n",
    "lam=a+1\n",
    "N=100000\n",
    "K=np.random.poisson(lam=lam,size=N)\n",
    "\n",
    "probs=np.power(a/lam,K)\n",
    "approx=np.mean(np.random.random(N)<probs)\n",
    "print(approx)\n",
    "exact=np.exp(a-lam)\n",
    "print(exact)\n",
    "\n",
    "# Actual softmax?\n",
    "C=np.array([[1,2,5]])-1\n",
    "lam=np.sum(C)\n",
    "N=10000\n",
    "approx=[0,0,0]\n",
    "fails=0\n",
    "K=np.random.poisson(lam=lam,size=N)\n",
    "for k in K:\n",
    "    ak=np.random.choice([0,1,2],size=k,p=C[0]/lam)\n",
    "    if len(np.unique(ak))==1:\n",
    "        approx[ak[0]]+=1\n",
    "    else:\n",
    "        fails+=1\n",
    "print(softmax(C))\n",
    "print(approx/np.sum(approx))\n",
    "print(\"Times returned no val: \",fails,\"/\",N)\n"
   ]
  },
  {
   "cell_type": "markdown",
   "metadata": {},
   "source": [
    "\n",
    "The basic idea is to draw a random K from Poisson(lam) and then do K coin flips, each with success\n",
    "probability p=a/lam. If ALL of the flips are successes, we will call the whole trial a success.\n",
    "Then the probability of success is e^{a-lam} or e^{a-a/p}=e^{a(1-1/p)}. We can also roll a dice,\n",
    "with probabilities proportioal to the different possible values, a,b,c,... And then we call it\n",
    "a success for that value if every roll is that values\n",
    "\n"
   ]
  },
  {
   "cell_type": "code",
   "execution_count": 11,
   "metadata": {},
   "outputs": [
    {
     "name": "stdout",
     "output_type": "stream",
     "text": [
      "[0.23444608 0.0861152  0.03466393 0.00403665 0.64073813]\n",
      "[0.2358595  0.08676786 0.03192011 0.00431992 0.6411326 ]\n"
     ]
    }
   ],
   "source": [
    "\n",
    "\n",
    "N=5000 # Population size\n",
    "K=10000 # Number of trials\n",
    "c = [1,2,3,5,0] # Inputs to softmax\n",
    "p = np.array(c+[N])\n",
    "p = p/np.sum(p)\n",
    "approx=[0]*len(c)\n",
    "idx = [i for i in range(len(p))]\n",
    "for t in range(K):\n",
    "    x = np.random.choice(idx,size=N,p=p)\n",
    "    y = [a for a in idx if not a in x]\n",
    "    for j in y:\n",
    "        approx[j]+=1\n",
    "\n",
    "approx = np.array(approx)\n",
    "approx = approx/np.sum(approx)\n",
    "\n",
    "print(approx)\n",
    "print(softmax(-np.array(c)))\n"
   ]
  },
  {
   "cell_type": "markdown",
   "metadata": {},
   "source": [
    "$$\\omega$$"
   ]
  },
  {
   "cell_type": "markdown",
   "metadata": {},
   "source": []
  }
 ],
 "metadata": {
  "kernelspec": {
   "display_name": "pytorch",
   "language": "python",
   "name": "python3"
  },
  "language_info": {
   "codemirror_mode": {
    "name": "ipython",
    "version": 3
   },
   "file_extension": ".py",
   "mimetype": "text/x-python",
   "name": "python",
   "nbconvert_exporter": "python",
   "pygments_lexer": "ipython3",
   "version": "3.10.6"
  }
 },
 "nbformat": 4,
 "nbformat_minor": 2
}
